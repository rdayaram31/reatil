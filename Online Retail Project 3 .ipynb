{
 "cells": [
  {
   "cell_type": "code",
   "execution_count": 1,
   "id": "3177c22e",
   "metadata": {},
   "outputs": [],
   "source": [
    "import numpy as np \n",
    "import pandas as pd\n",
    "\n",
    "import warnings\n",
    "warnings.filterwarnings(\"ignore\")\n",
    "\n",
    "import seaborn as sns\n",
    "# sns.set_palette('Set2')\n",
    "import matplotlib.pyplot as plt\n",
    "%matplotlib inline\n",
    "\n",
    "# Supress Scientific notation in python\n",
    "pd.set_option('display.float_format', lambda x: '%.2f' % x)\n",
    "\n",
    "# Display all columns of long dataframe\n",
    "pd.set_option('display.max_columns', None)\n",
    "\n",
    "import time\n",
    "import datetime as dt"
   ]
  },
  {
   "cell_type": "code",
   "execution_count": 2,
   "id": "f25a7e8a",
   "metadata": {},
   "outputs": [],
   "source": [
    "# Import datasets\n",
    "df = pd.read_excel('Online Retail.xlsx',parse_dates=['InvoiceDate'])"
   ]
  },
  {
   "cell_type": "code",
   "execution_count": 3,
   "id": "c1cde779",
   "metadata": {},
   "outputs": [
    {
     "data": {
      "text/html": [
       "<div>\n",
       "<style scoped>\n",
       "    .dataframe tbody tr th:only-of-type {\n",
       "        vertical-align: middle;\n",
       "    }\n",
       "\n",
       "    .dataframe tbody tr th {\n",
       "        vertical-align: top;\n",
       "    }\n",
       "\n",
       "    .dataframe thead th {\n",
       "        text-align: right;\n",
       "    }\n",
       "</style>\n",
       "<table border=\"1\" class=\"dataframe\">\n",
       "  <thead>\n",
       "    <tr style=\"text-align: right;\">\n",
       "      <th></th>\n",
       "      <th>InvoiceNo</th>\n",
       "      <th>StockCode</th>\n",
       "      <th>Description</th>\n",
       "      <th>Quantity</th>\n",
       "      <th>InvoiceDate</th>\n",
       "      <th>UnitPrice</th>\n",
       "      <th>CustomerID</th>\n",
       "      <th>Country</th>\n",
       "    </tr>\n",
       "  </thead>\n",
       "  <tbody>\n",
       "    <tr>\n",
       "      <th>0</th>\n",
       "      <td>536365</td>\n",
       "      <td>85123A</td>\n",
       "      <td>WHITE HANGING HEART T-LIGHT HOLDER</td>\n",
       "      <td>6</td>\n",
       "      <td>2010-12-01 08:26:00</td>\n",
       "      <td>2.55</td>\n",
       "      <td>17850.00</td>\n",
       "      <td>United Kingdom</td>\n",
       "    </tr>\n",
       "    <tr>\n",
       "      <th>1</th>\n",
       "      <td>536365</td>\n",
       "      <td>71053</td>\n",
       "      <td>WHITE METAL LANTERN</td>\n",
       "      <td>6</td>\n",
       "      <td>2010-12-01 08:26:00</td>\n",
       "      <td>3.39</td>\n",
       "      <td>17850.00</td>\n",
       "      <td>United Kingdom</td>\n",
       "    </tr>\n",
       "    <tr>\n",
       "      <th>2</th>\n",
       "      <td>536365</td>\n",
       "      <td>84406B</td>\n",
       "      <td>CREAM CUPID HEARTS COAT HANGER</td>\n",
       "      <td>8</td>\n",
       "      <td>2010-12-01 08:26:00</td>\n",
       "      <td>2.75</td>\n",
       "      <td>17850.00</td>\n",
       "      <td>United Kingdom</td>\n",
       "    </tr>\n",
       "    <tr>\n",
       "      <th>3</th>\n",
       "      <td>536365</td>\n",
       "      <td>84029G</td>\n",
       "      <td>KNITTED UNION FLAG HOT WATER BOTTLE</td>\n",
       "      <td>6</td>\n",
       "      <td>2010-12-01 08:26:00</td>\n",
       "      <td>3.39</td>\n",
       "      <td>17850.00</td>\n",
       "      <td>United Kingdom</td>\n",
       "    </tr>\n",
       "    <tr>\n",
       "      <th>4</th>\n",
       "      <td>536365</td>\n",
       "      <td>84029E</td>\n",
       "      <td>RED WOOLLY HOTTIE WHITE HEART.</td>\n",
       "      <td>6</td>\n",
       "      <td>2010-12-01 08:26:00</td>\n",
       "      <td>3.39</td>\n",
       "      <td>17850.00</td>\n",
       "      <td>United Kingdom</td>\n",
       "    </tr>\n",
       "  </tbody>\n",
       "</table>\n",
       "</div>"
      ],
      "text/plain": [
       "  InvoiceNo StockCode                          Description  Quantity  \\\n",
       "0    536365    85123A   WHITE HANGING HEART T-LIGHT HOLDER         6   \n",
       "1    536365     71053                  WHITE METAL LANTERN         6   \n",
       "2    536365    84406B       CREAM CUPID HEARTS COAT HANGER         8   \n",
       "3    536365    84029G  KNITTED UNION FLAG HOT WATER BOTTLE         6   \n",
       "4    536365    84029E       RED WOOLLY HOTTIE WHITE HEART.         6   \n",
       "\n",
       "          InvoiceDate  UnitPrice  CustomerID         Country  \n",
       "0 2010-12-01 08:26:00       2.55    17850.00  United Kingdom  \n",
       "1 2010-12-01 08:26:00       3.39    17850.00  United Kingdom  \n",
       "2 2010-12-01 08:26:00       2.75    17850.00  United Kingdom  \n",
       "3 2010-12-01 08:26:00       3.39    17850.00  United Kingdom  \n",
       "4 2010-12-01 08:26:00       3.39    17850.00  United Kingdom  "
      ]
     },
     "execution_count": 3,
     "metadata": {},
     "output_type": "execute_result"
    }
   ],
   "source": [
    "df.head()"
   ]
  },
  {
   "cell_type": "code",
   "execution_count": 4,
   "id": "b2fd723a",
   "metadata": {},
   "outputs": [
    {
     "data": {
      "text/plain": [
       "(541909, 8)"
      ]
     },
     "execution_count": 4,
     "metadata": {},
     "output_type": "execute_result"
    }
   ],
   "source": [
    "# Check the shape of dataset\n",
    "df.shape"
   ]
  },
  {
   "cell_type": "markdown",
   "id": "3aad32e1",
   "metadata": {},
   "source": [
    "### Duplicate records\n",
    "Let's check for any duplicate record first, as those need to be removed first before any further analysis."
   ]
  },
  {
   "cell_type": "code",
   "execution_count": 5,
   "id": "56e15aba",
   "metadata": {},
   "outputs": [
    {
     "name": "stdout",
     "output_type": "stream",
     "text": [
      "Duplicate items in train dataset is 5268\n"
     ]
    }
   ],
   "source": [
    "print(f'Duplicate items in train dataset is {df.duplicated().sum()}')"
   ]
  },
  {
   "cell_type": "code",
   "execution_count": 6,
   "id": "d3abb545",
   "metadata": {},
   "outputs": [],
   "source": [
    "# Remove duplicate items \n",
    "df = df[~df.duplicated()]"
   ]
  },
  {
   "cell_type": "markdown",
   "id": "7ad32723",
   "metadata": {},
   "source": [
    "### Missing values\n",
    "Let's check for any missing values in the dataset"
   ]
  },
  {
   "cell_type": "code",
   "execution_count": 7,
   "id": "e13bc1a2",
   "metadata": {},
   "outputs": [],
   "source": [
    "# Define function to find missing values\n",
    "def missing_values_table(df1):\n",
    "        # Total missing values\n",
    "        mis_val = df1.isnull().sum()        \n",
    "        # Percentage of missing values\n",
    "        mis_val_percent = 100 * df1.isnull().sum() / len(df)        \n",
    "        # Make a table with the results\n",
    "        mis_val_table = pd.concat([mis_val, mis_val_percent], axis=1)        \n",
    "        # Rename the columns\n",
    "        mis_val_table_ren_columns = mis_val_table.rename(columns = {0 : 'Missing Values', 1 : '% of Total Values'})        \n",
    "        # Sort the table by percentage of missing descending\n",
    "        mis_val_table_ren_columns = mis_val_table_ren_columns[mis_val_table_ren_columns.iloc[:,1] != 0].sort_values('% of Total Values', ascending=False).round(1)        \n",
    "        # Print some summary information\n",
    "        print (\"Your selected dataframe has \" + str(df.shape[1]) + \" columns.\\n\"+\"There are \" + str(mis_val_table_ren_columns.shape[0]) +\" columns that have missing values.\")        \n",
    "        # Return the dataframe with missing information\n",
    "        return mis_val_table_ren_columns"
   ]
  },
  {
   "cell_type": "code",
   "execution_count": 8,
   "id": "604ce5a7",
   "metadata": {},
   "outputs": [
    {
     "name": "stdout",
     "output_type": "stream",
     "text": [
      "Your selected dataframe has 8 columns.\n",
      "There are 2 columns that have missing values.\n"
     ]
    },
    {
     "data": {
      "text/html": [
       "<div>\n",
       "<style scoped>\n",
       "    .dataframe tbody tr th:only-of-type {\n",
       "        vertical-align: middle;\n",
       "    }\n",
       "\n",
       "    .dataframe tbody tr th {\n",
       "        vertical-align: top;\n",
       "    }\n",
       "\n",
       "    .dataframe thead th {\n",
       "        text-align: right;\n",
       "    }\n",
       "</style>\n",
       "<table border=\"1\" class=\"dataframe\">\n",
       "  <thead>\n",
       "    <tr style=\"text-align: right;\">\n",
       "      <th></th>\n",
       "      <th>Missing Values</th>\n",
       "      <th>% of Total Values</th>\n",
       "    </tr>\n",
       "  </thead>\n",
       "  <tbody>\n",
       "    <tr>\n",
       "      <th>CustomerID</th>\n",
       "      <td>135037</td>\n",
       "      <td>25.20</td>\n",
       "    </tr>\n",
       "    <tr>\n",
       "      <th>Description</th>\n",
       "      <td>1454</td>\n",
       "      <td>0.30</td>\n",
       "    </tr>\n",
       "  </tbody>\n",
       "</table>\n",
       "</div>"
      ],
      "text/plain": [
       "             Missing Values  % of Total Values\n",
       "CustomerID           135037              25.20\n",
       "Description            1454               0.30"
      ]
     },
     "execution_count": 8,
     "metadata": {},
     "output_type": "execute_result"
    }
   ],
   "source": [
    "missing_values_table(df)"
   ]
  },
  {
   "cell_type": "code",
   "execution_count": 9,
   "id": "974f2edb",
   "metadata": {},
   "outputs": [],
   "source": [
    "# Create a list of unique InvoiceNo with null CustomerID records\n",
    "Invoice_list = df[df.CustomerID.isnull()]['InvoiceNo'].tolist()"
   ]
  },
  {
   "cell_type": "code",
   "execution_count": 10,
   "id": "c055c5fd",
   "metadata": {},
   "outputs": [
    {
     "data": {
      "text/plain": [
       "135037"
      ]
     },
     "execution_count": 10,
     "metadata": {},
     "output_type": "execute_result"
    }
   ],
   "source": [
    "# Check for the number of records with these InvoicNo\n",
    "len(df[df.InvoiceNo.isin(Invoice_list)])  "
   ]
  },
  {
   "cell_type": "markdown",
   "id": "1792ec64",
   "metadata": {},
   "source": [
    "Here we found that the count of the Invoice with null customerID is equivalent to the number of records with missing CustomerID. Therefore we are unable to prevent the loss and have to remove all such records before any further analysis."
   ]
  },
  {
   "cell_type": "code",
   "execution_count": 11,
   "id": "f983559d",
   "metadata": {},
   "outputs": [],
   "source": [
    "# We don't need records with Null customer id for RFM analysis so let's remove those first\n",
    "rfm_train = df[df.CustomerID.notnull()].copy()"
   ]
  },
  {
   "cell_type": "code",
   "execution_count": 12,
   "id": "06c661aa",
   "metadata": {},
   "outputs": [],
   "source": [
    "# Convert remaining Customer Ids to int type\n",
    "rfm_train.CustomerID = (rfm_train.CustomerID).astype(int)"
   ]
  },
  {
   "cell_type": "code",
   "execution_count": 13,
   "id": "980a234f",
   "metadata": {},
   "outputs": [
    {
     "name": "stdout",
     "output_type": "stream",
     "text": [
      "Your selected dataframe has 8 columns.\n",
      "There are 0 columns that have missing values.\n"
     ]
    },
    {
     "data": {
      "text/html": [
       "<div>\n",
       "<style scoped>\n",
       "    .dataframe tbody tr th:only-of-type {\n",
       "        vertical-align: middle;\n",
       "    }\n",
       "\n",
       "    .dataframe tbody tr th {\n",
       "        vertical-align: top;\n",
       "    }\n",
       "\n",
       "    .dataframe thead th {\n",
       "        text-align: right;\n",
       "    }\n",
       "</style>\n",
       "<table border=\"1\" class=\"dataframe\">\n",
       "  <thead>\n",
       "    <tr style=\"text-align: right;\">\n",
       "      <th></th>\n",
       "      <th>Missing Values</th>\n",
       "      <th>% of Total Values</th>\n",
       "    </tr>\n",
       "  </thead>\n",
       "  <tbody>\n",
       "  </tbody>\n",
       "</table>\n",
       "</div>"
      ],
      "text/plain": [
       "Empty DataFrame\n",
       "Columns: [Missing Values, % of Total Values]\n",
       "Index: []"
      ]
     },
     "execution_count": 13,
     "metadata": {},
     "output_type": "execute_result"
    }
   ],
   "source": [
    "# Check the count of missing values after removing Null customer id records\n",
    "missing_values_table(rfm_train) # Train"
   ]
  },
  {
   "cell_type": "markdown",
   "id": "9c14b3bd",
   "metadata": {},
   "source": [
    "### Cancelled items\n",
    "Let's check those record which shows cancelled items. These records are not needed for Descriptive analysis but are accountable for the RFM analysis. So let's keep them in a different dataframe altogether."
   ]
  },
  {
   "cell_type": "code",
   "execution_count": 14,
   "id": "8d552680",
   "metadata": {},
   "outputs": [],
   "source": [
    "# Check and remove transactions with cancelled items.\n",
    "desc_df = rfm_train[~rfm_train.InvoiceNo.str.contains('C', na=False)]"
   ]
  },
  {
   "cell_type": "code",
   "execution_count": 15,
   "id": "10f8d39c",
   "metadata": {},
   "outputs": [],
   "source": [
    "# Let's create a feature with total cost of the transactions\n",
    "desc_df['Total_cost'] = rfm_train.Quantity * rfm_train.UnitPrice"
   ]
  },
  {
   "cell_type": "markdown",
   "id": "fc08bfdd",
   "metadata": {},
   "source": [
    "### EDA\n",
    "Now let's do some Exploratory Data Analysis on the processed dataset"
   ]
  },
  {
   "cell_type": "code",
   "execution_count": 16,
   "id": "19526006",
   "metadata": {},
   "outputs": [
    {
     "name": "stdout",
     "output_type": "stream",
     "text": [
      "Oldest date is - 2010-12-01 08:26:00\n",
      "\n",
      "Latest date is - 2011-12-09 12:50:00\n"
     ]
    }
   ],
   "source": [
    "# Check the oldest and latest date in the dataset.\n",
    "print(f'Oldest date is - {desc_df.InvoiceDate.min()}\\n')\n",
    "print(f'Latest date is - {desc_df.InvoiceDate.max()}')"
   ]
  },
  {
   "cell_type": "code",
   "execution_count": 17,
   "id": "9d954e19",
   "metadata": {},
   "outputs": [
    {
     "data": {
      "text/plain": [
       "United Kingdom    88.9%\n",
       "Germany            2.3%\n",
       "France             2.1%\n",
       "EIRE               1.8%\n",
       "Spain              0.6%\n",
       "Netherlands        0.6%\n",
       "Belgium            0.5%\n",
       "Switzerland        0.5%\n",
       "Portugal           0.4%\n",
       "Australia          0.3%\n",
       "Name: Country, dtype: object"
      ]
     },
     "execution_count": 17,
     "metadata": {},
     "output_type": "execute_result"
    }
   ],
   "source": [
    "# Check the top ten countries in the dataset with highest transactions\n",
    "desc_df.Country.value_counts(normalize=True).head(10).mul(100).round(1).astype(str) + '%'"
   ]
  },
  {
   "cell_type": "code",
   "execution_count": 18,
   "id": "fa9251fe",
   "metadata": {},
   "outputs": [
    {
     "data": {
      "image/png": "[encoded data removed]",
      "text/plain": [
       "<Figure size 432x288 with 1 Axes>"
      ]
     },
     "metadata": {
      "needs_background": "light"
     },
     "output_type": "display_data"
    }
   ],
   "source": [
    "# Count of transactions in different years\n",
    "desc_df.InvoiceDate.dt.year.value_counts(sort=False).plot(kind='bar', rot=45);"
   ]
  },
  {
   "cell_type": "code",
   "execution_count": 19,
   "id": "de8cf1e6",
   "metadata": {},
   "outputs": [
    {
     "data": {
      "image/png": "[encoded data removed]",
      "text/plain": [
       "<Figure size 432x288 with 1 Axes>"
      ]
     },
     "metadata": {
      "needs_background": "light"
     },
     "output_type": "display_data"
    }
   ],
   "source": [
    "# Count of transactions in different months within 2011 year.\n",
    "desc_df[desc_df.InvoiceDate.dt.year==2011].InvoiceDate.dt.month.value_counts(sort=False).plot(kind='bar');"
   ]
  },
  {
   "cell_type": "markdown",
   "id": "f61ceea8",
   "metadata": {},
   "source": [
    "An increasing pattern can be observed month by month wise with a sharp decline in the month of December. That is evident because only first 9 days of December 2011 month is available in the dataset i.e. around 70% of the month transactions are not considered. Due to this fact, sales figure looks legitimate."
   ]
  },
  {
   "cell_type": "code",
   "execution_count": 20,
   "id": "82687e1f",
   "metadata": {},
   "outputs": [
    {
     "data": {
      "image/png": "[encoded data removed]",
      "text/plain": [
       "<Figure size 720x360 with 1 Axes>"
      ]
     },
     "metadata": {
      "needs_background": "light"
     },
     "output_type": "display_data"
    }
   ],
   "source": [
    "# Let's visualize the top grossing months\n",
    "monthly_gross = desc_df[desc_df.InvoiceDate.dt.year==2011].groupby(desc_df.InvoiceDate.dt.month).Total_cost.sum()\n",
    "plt.figure(figsize=(10,5))\n",
    "sns.lineplot(y=monthly_gross.values,x=monthly_gross.index, marker='o');\n",
    "plt.xticks(range(1,13))\n",
    "plt.show();"
   ]
  },
  {
   "cell_type": "markdown",
   "id": "b43328c2",
   "metadata": {},
   "source": [
    "A similar pattern is also observed in total gross each month as per the count of transactions in each month"
   ]
  },
  {
   "cell_type": "code",
   "execution_count": 21,
   "id": "ca67cd9a",
   "metadata": {},
   "outputs": [
    {
     "data": {
      "image/png": "[encoded data removed]",
      "text/plain": [
       "<Figure size 1152x288 with 1 Axes>"
      ]
     },
     "metadata": {
      "needs_background": "light"
     },
     "output_type": "display_data"
    }
   ],
   "source": [
    "# Boxplot to visualize the Quantity distribution\n",
    "plt.figure(figsize=(16,4))\n",
    "sns.boxplot(y='Quantity', data=desc_df, orient='h');"
   ]
  },
  {
   "cell_type": "markdown",
   "id": "b6e7324b",
   "metadata": {},
   "source": [
    "This shows that Quantity data is highly skewed towards lower quantity values with some outliers. May be data entry error or might be genuine order"
   ]
  },
  {
   "cell_type": "code",
   "execution_count": 22,
   "id": "9f920eb9",
   "metadata": {},
   "outputs": [
    {
     "data": {
      "image/png": "[encoded data removed]",
      "text/plain": [
       "<Figure size 1152x288 with 1 Axes>"
      ]
     },
     "metadata": {
      "needs_background": "light"
     },
     "output_type": "display_data"
    }
   ],
   "source": [
    "# Let's visualize the Unit price distribution\n",
    "plt.figure(figsize=(16,4))\n",
    "sns.boxplot(y='UnitPrice', data=desc_df, orient='h');"
   ]
  },
  {
   "cell_type": "markdown",
   "id": "0a8059a6",
   "metadata": {},
   "source": [
    "Similarly, Price of unit data shows heavy skewed distribution towards lower values of unit price."
   ]
  },
  {
   "cell_type": "code",
   "execution_count": 23,
   "id": "ea5b7214",
   "metadata": {},
   "outputs": [
    {
     "data": {
      "image/png": "[encoded data removed]",
      "text/plain": [
       "<Figure size 720x432 with 1 Axes>"
      ]
     },
     "metadata": {
      "needs_background": "light"
     },
     "output_type": "display_data"
    }
   ],
   "source": [
    "# Let's visualize some top products from the whole range.\n",
    "top_products = desc_df['Description'].value_counts()[:20]\n",
    "plt.figure(figsize=(10,6))\n",
    "sns.set_context(\"paper\", font_scale=1.5)\n",
    "sns.barplot(y = top_products.index,\n",
    "            x = top_products.values)\n",
    "plt.title(\"Top selling products\")\n",
    "plt.show();"
   ]
  },
  {
   "cell_type": "code",
   "execution_count": 24,
   "id": "cf80c0c4",
   "metadata": {},
   "outputs": [],
   "source": [
    "# Create a copy of df dataframe for cohort analysis\n",
    "cohort = df.copy()"
   ]
  },
  {
   "cell_type": "markdown",
   "id": "96d84f9d",
   "metadata": {},
   "source": [
    "### Assign monthly acquisition cohort\n",
    "Defining a cohort is the first step to cohort analysis. We will now create monthly cohorts based on the month each customer has made their first transaction."
   ]
  },
  {
   "cell_type": "code",
   "execution_count": 25,
   "id": "ad309019",
   "metadata": {},
   "outputs": [],
   "source": [
    "# Define a function that will parse the date\n",
    "def get_month(x):\n",
    "    return dt.datetime(x.year,x.month,1) \n",
    "\n",
    "# Create InvoiceMonth column\n",
    "cohort['InvoiceMonth'] = cohort['InvoiceDate'].apply(get_month) \n",
    "\n",
    "# Group by CustomerID and select the InvoiceMonth value\n",
    "grouping = cohort.groupby('CustomerID')['InvoiceMonth'] \n",
    "\n",
    "# Assign a minimum InvoiceMonth value to the dataset\n",
    "cohort['CohortMonth'] = grouping.transform('min')"
   ]
  },
  {
   "cell_type": "markdown",
   "id": "f56b73e5",
   "metadata": {},
   "source": [
    "### Calculate time offset in months\n",
    "Calculating time offset for each transaction allows you to report the metrics for each cohort in a comparable fashion.\n",
    "\n",
    "First, we will create some variables that capture the integer value of years and months for Invoice and Cohort Date using the get_date_int() function"
   ]
  },
  {
   "cell_type": "code",
   "execution_count": 26,
   "id": "15f19c30",
   "metadata": {},
   "outputs": [],
   "source": [
    "def get_date_int(df2, column):\n",
    "    year = df2[column].dt.year\n",
    "    month = df2[column].dt.month\n",
    "    return year, month"
   ]
  },
  {
   "cell_type": "code",
   "execution_count": 27,
   "id": "945b516d",
   "metadata": {},
   "outputs": [],
   "source": [
    "# Get the integers for date parts from the `InvoiceMonth` column\n",
    "invoice_year, invoice_month = get_date_int(cohort,'InvoiceMonth')\n",
    "\n",
    "# Get the integers for date parts from the `CohortMonth` column\n",
    "cohort_year, cohort_month = get_date_int(cohort,'CohortMonth')"
   ]
  },
  {
   "cell_type": "code",
   "execution_count": 28,
   "id": "1ab214a4",
   "metadata": {},
   "outputs": [],
   "source": [
    "# Calculate difference in years\n",
    "years_diff = invoice_year - cohort_year\n",
    "\n",
    "# Calculate difference in months\n",
    "months_diff = invoice_month - cohort_month\n",
    "\n",
    "# Extract the difference in months from all previous values\n",
    "cohort['CohortIndex'] = years_diff * 12 + months_diff + 1"
   ]
  },
  {
   "cell_type": "code",
   "execution_count": 29,
   "id": "55b9c71a",
   "metadata": {},
   "outputs": [
    {
     "data": {
      "text/html": [
       "<div>\n",
       "<style scoped>\n",
       "    .dataframe tbody tr th:only-of-type {\n",
       "        vertical-align: middle;\n",
       "    }\n",
       "\n",
       "    .dataframe tbody tr th {\n",
       "        vertical-align: top;\n",
       "    }\n",
       "\n",
       "    .dataframe thead th {\n",
       "        text-align: right;\n",
       "    }\n",
       "</style>\n",
       "<table border=\"1\" class=\"dataframe\">\n",
       "  <thead>\n",
       "    <tr style=\"text-align: right;\">\n",
       "      <th></th>\n",
       "      <th>InvoiceNo</th>\n",
       "      <th>StockCode</th>\n",
       "      <th>Description</th>\n",
       "      <th>Quantity</th>\n",
       "      <th>InvoiceDate</th>\n",
       "      <th>UnitPrice</th>\n",
       "      <th>CustomerID</th>\n",
       "      <th>Country</th>\n",
       "      <th>InvoiceMonth</th>\n",
       "      <th>CohortMonth</th>\n",
       "      <th>CohortIndex</th>\n",
       "    </tr>\n",
       "  </thead>\n",
       "  <tbody>\n",
       "    <tr>\n",
       "      <th>0</th>\n",
       "      <td>536365</td>\n",
       "      <td>85123A</td>\n",
       "      <td>WHITE HANGING HEART T-LIGHT HOLDER</td>\n",
       "      <td>6</td>\n",
       "      <td>2010-12-01 08:26:00</td>\n",
       "      <td>2.55</td>\n",
       "      <td>17850.00</td>\n",
       "      <td>United Kingdom</td>\n",
       "      <td>2010-12-01</td>\n",
       "      <td>2010-12-01</td>\n",
       "      <td>1.00</td>\n",
       "    </tr>\n",
       "    <tr>\n",
       "      <th>1</th>\n",
       "      <td>536365</td>\n",
       "      <td>71053</td>\n",
       "      <td>WHITE METAL LANTERN</td>\n",
       "      <td>6</td>\n",
       "      <td>2010-12-01 08:26:00</td>\n",
       "      <td>3.39</td>\n",
       "      <td>17850.00</td>\n",
       "      <td>United Kingdom</td>\n",
       "      <td>2010-12-01</td>\n",
       "      <td>2010-12-01</td>\n",
       "      <td>1.00</td>\n",
       "    </tr>\n",
       "    <tr>\n",
       "      <th>2</th>\n",
       "      <td>536365</td>\n",
       "      <td>84406B</td>\n",
       "      <td>CREAM CUPID HEARTS COAT HANGER</td>\n",
       "      <td>8</td>\n",
       "      <td>2010-12-01 08:26:00</td>\n",
       "      <td>2.75</td>\n",
       "      <td>17850.00</td>\n",
       "      <td>United Kingdom</td>\n",
       "      <td>2010-12-01</td>\n",
       "      <td>2010-12-01</td>\n",
       "      <td>1.00</td>\n",
       "    </tr>\n",
       "    <tr>\n",
       "      <th>3</th>\n",
       "      <td>536365</td>\n",
       "      <td>84029G</td>\n",
       "      <td>KNITTED UNION FLAG HOT WATER BOTTLE</td>\n",
       "      <td>6</td>\n",
       "      <td>2010-12-01 08:26:00</td>\n",
       "      <td>3.39</td>\n",
       "      <td>17850.00</td>\n",
       "      <td>United Kingdom</td>\n",
       "      <td>2010-12-01</td>\n",
       "      <td>2010-12-01</td>\n",
       "      <td>1.00</td>\n",
       "    </tr>\n",
       "    <tr>\n",
       "      <th>4</th>\n",
       "      <td>536365</td>\n",
       "      <td>84029E</td>\n",
       "      <td>RED WOOLLY HOTTIE WHITE HEART.</td>\n",
       "      <td>6</td>\n",
       "      <td>2010-12-01 08:26:00</td>\n",
       "      <td>3.39</td>\n",
       "      <td>17850.00</td>\n",
       "      <td>United Kingdom</td>\n",
       "      <td>2010-12-01</td>\n",
       "      <td>2010-12-01</td>\n",
       "      <td>1.00</td>\n",
       "    </tr>\n",
       "  </tbody>\n",
       "</table>\n",
       "</div>"
      ],
      "text/plain": [
       "  InvoiceNo StockCode                          Description  Quantity  \\\n",
       "0    536365    85123A   WHITE HANGING HEART T-LIGHT HOLDER         6   \n",
       "1    536365     71053                  WHITE METAL LANTERN         6   \n",
       "2    536365    84406B       CREAM CUPID HEARTS COAT HANGER         8   \n",
       "3    536365    84029G  KNITTED UNION FLAG HOT WATER BOTTLE         6   \n",
       "4    536365    84029E       RED WOOLLY HOTTIE WHITE HEART.         6   \n",
       "\n",
       "          InvoiceDate  UnitPrice  CustomerID         Country InvoiceMonth  \\\n",
       "0 2010-12-01 08:26:00       2.55    17850.00  United Kingdom   2010-12-01   \n",
       "1 2010-12-01 08:26:00       3.39    17850.00  United Kingdom   2010-12-01   \n",
       "2 2010-12-01 08:26:00       2.75    17850.00  United Kingdom   2010-12-01   \n",
       "3 2010-12-01 08:26:00       3.39    17850.00  United Kingdom   2010-12-01   \n",
       "4 2010-12-01 08:26:00       3.39    17850.00  United Kingdom   2010-12-01   \n",
       "\n",
       "  CohortMonth  CohortIndex  \n",
       "0  2010-12-01         1.00  \n",
       "1  2010-12-01         1.00  \n",
       "2  2010-12-01         1.00  \n",
       "3  2010-12-01         1.00  \n",
       "4  2010-12-01         1.00  "
      ]
     },
     "execution_count": 29,
     "metadata": {},
     "output_type": "execute_result"
    }
   ],
   "source": [
    "cohort.head()"
   ]
  },
  {
   "cell_type": "markdown",
   "id": "d46b5323",
   "metadata": {},
   "source": [
    "### Calculate retention rate\n",
    "Customer retention is a very useful metric to understand how many of all the customers are still active. It gives you the percentage of active customers compared to the total number of customers"
   ]
  },
  {
   "cell_type": "code",
   "execution_count": 30,
   "id": "15b0f809",
   "metadata": {},
   "outputs": [],
   "source": [
    "grouping = cohort.groupby(['CohortMonth', 'CohortIndex'])"
   ]
  },
  {
   "cell_type": "code",
   "execution_count": 31,
   "id": "c294042a",
   "metadata": {},
   "outputs": [],
   "source": [
    "# Count the number of unique values per customer ID\n",
    "cohort_data = grouping['CustomerID'].apply(pd.Series.nunique).reset_index()\n",
    "\n",
    "# Create a pivot \n",
    "cohort_counts = cohort_data.pivot(index='CohortMonth', columns='CohortIndex', values='CustomerID')\n",
    "\n",
    "# Select the first column and store it to cohort_sizes\n",
    "cohort_sizes = cohort_counts.iloc[:,0]\n",
    "\n",
    "# Divide the cohort count by cohort sizes along the rows\n",
    "retention = cohort_counts.divide(cohort_sizes, axis=0)*100"
   ]
  },
  {
   "cell_type": "code",
   "execution_count": 32,
   "id": "331cbecb",
   "metadata": {},
   "outputs": [
    {
     "data": {
      "image/png": "[encoded data removed]",
      "text/plain": [
       "<Figure size 1080x504 with 2 Axes>"
      ]
     },
     "metadata": {
      "needs_background": "light"
     },
     "output_type": "display_data"
    }
   ],
   "source": [
    "month_list = [\"Dec '10\", \"Jan '11\", \"Feb '11\", \"Mar '11\", \"Apr '11\",\\\n",
    "              \"May '11\", \"Jun '11\", \"Jul '11\", \"Aug '11\", \"Sep '11\", \\\n",
    "              \"Oct '11\", \"Nov '11\", \"Dec '11\"]\n",
    "\n",
    "# Initialize inches plot figure\n",
    "plt.figure(figsize=(15,7))\n",
    "\n",
    "# Add a title\n",
    "plt.title('Retention by Monthly Cohorts')\n",
    "\n",
    "# Create the heatmap\n",
    "sns.heatmap(data=retention,\n",
    "            annot = True,\n",
    "            cmap = \"Blues\",\n",
    "            vmin = 0.0,\n",
    "#             vmax = 0.5,\n",
    "            vmax = list(retention.max().sort_values(ascending = False))[1]+3,\n",
    "            fmt = '.1f',\n",
    "            linewidth = 0.3,\n",
    "            yticklabels=month_list)\n",
    "\n",
    "plt.show();"
   ]
  },
  {
   "cell_type": "markdown",
   "id": "91da12bb",
   "metadata": {},
   "source": [
    "### Calculate average price per cohort\n",
    "Now we will calculate the average price metric and analyze if there are any differences in shopping patterns across time and across cohorts."
   ]
  },
  {
   "cell_type": "code",
   "execution_count": 33,
   "id": "08567d2a",
   "metadata": {},
   "outputs": [],
   "source": [
    "# Create a groupby object and pass the monthly cohort and cohort index as a list\n",
    "grouping = cohort.groupby(['CohortMonth', 'CohortIndex']) \n",
    "\n",
    "# Calculate the average of the unit price column\n",
    "cohort_data = grouping['UnitPrice'].mean()\n",
    "\n",
    "# Reset the index of cohort_data\n",
    "cohort_data = cohort_data.reset_index()\n",
    "\n",
    "# Create a pivot \n",
    "average_price = cohort_data.pivot(index='CohortMonth', columns='CohortIndex', values='UnitPrice')\n",
    "average_price.round(1)\n",
    "average_price.index = average_price.index.date"
   ]
  },
  {
   "cell_type": "code",
   "execution_count": 34,
   "id": "e7dd11c6",
   "metadata": {},
   "outputs": [
    {
     "data": {
      "image/png": "[encoded data removed]",
      "text/plain": [
       "<Figure size 1080x504 with 2 Axes>"
      ]
     },
     "metadata": {
      "needs_background": "light"
     },
     "output_type": "display_data"
    }
   ],
   "source": [
    "# Initialize plot figure\n",
    "plt.figure(figsize=(15, 7))\n",
    "\n",
    "# Add a title\n",
    "plt.title('Average Spend by Monthly Cohorts')\n",
    "\n",
    "# Create the heatmap\n",
    "sns.heatmap(data = average_price,\n",
    "            annot=True,\n",
    "            vmin = 0.0,\n",
    "#             vmax =20,\n",
    "            cmap='Blues',\n",
    "            vmax = list(average_price.max().sort_values(ascending = False))[1]+3,\n",
    "            fmt = '.1f',\n",
    "            linewidth = 0.3,\n",
    "            yticklabels=month_list)\n",
    "plt.show();"
   ]
  },
  {
   "cell_type": "markdown",
   "id": "a2e1ece9",
   "metadata": {},
   "source": [
    "### Calculate average quantity per cohort\n",
    "Now we will calculate the average quantity metric and analyze if there are any differences in shopping patterns across time and across cohorts."
   ]
  },
  {
   "cell_type": "code",
   "execution_count": 35,
   "id": "2c4c89dc",
   "metadata": {},
   "outputs": [],
   "source": [
    "# Create a groupby object and pass the monthly cohort and cohort index as a list\n",
    "grouping = cohort.groupby(['CohortMonth', 'CohortIndex']) \n",
    "\n",
    "# Calculate the average of the Quantity column\n",
    "cohort_data = grouping['Quantity'].mean()\n",
    "\n",
    "# Reset the index of cohort_data\n",
    "cohort_data = cohort_data.reset_index()\n",
    "\n",
    "# Create a pivot \n",
    "average_quantity = cohort_data.pivot(index='CohortMonth', columns='CohortIndex', values='Quantity')\n",
    "# average_quantity.round(1)\n",
    "# average_quantity.index = average_quantity.index.date"
   ]
  },
  {
   "cell_type": "code",
   "execution_count": 36,
   "id": "300eb28a",
   "metadata": {},
   "outputs": [
    {
     "data": {
      "image/png": "[encoded data removed]",
      "text/plain": [
       "<Figure size 1080x504 with 2 Axes>"
      ]
     },
     "metadata": {
      "needs_background": "light"
     },
     "output_type": "display_data"
    }
   ],
   "source": [
    "# Initialize plot figure\n",
    "plt.figure(figsize=(15, 7))\n",
    "\n",
    "# Add a title\n",
    "plt.title('Average Quantity per Monthly Cohorts')\n",
    "\n",
    "# Create the heatmap\n",
    "sns.heatmap(data = average_quantity,\n",
    "            annot=True,\n",
    "            vmin = 0.0,\n",
    "            cmap='Blues',\n",
    "            vmax = list(average_quantity.max().sort_values(ascending = False))[1]+3,\n",
    "            fmt = '.1f',\n",
    "            linewidth = 0.3,\n",
    "            yticklabels=month_list)\n",
    "plt.show();"
   ]
  },
  {
   "cell_type": "markdown",
   "id": "cee45f9e",
   "metadata": {},
   "source": [
    "## RFM Analysis\n",
    "RFM analysis is a customer segmentation technique that uses past purchase behavior to divide customers into groups. RFM helps divide customers into various categories or clusters to identify customers who are more likely to respond to promotions and also for future personalization services.\n",
    "\n",
    "- Recency (R): Time since last purchase\n",
    "- Frequency (F): Total number of purchases\n",
    "- Monetary (M): Total purchase value\n",
    "\n",
    "### Benefits of RFM analysis\n",
    "- Increased customer retention\n",
    "- Increased response rate\n",
    "- Increased conversion rate\n",
    "- Increased revenue\n",
    "- To perform RFM analysis, we divide customers into four equal groups according to the distribution of values for recency, frequency, and monetary value. Four equal groups across three variables create 64 (4x4x4) different customer segments, which is a manageable number."
   ]
  },
  {
   "cell_type": "markdown",
   "id": "804bfdcc",
   "metadata": {},
   "source": [
    "### Recency\n",
    "Recency is about when was the last order of a customer. It means the number of days since a customer made the last purchase. If it’s a case for a website or an app, this could be interpreted as the last visit day or the last login time."
   ]
  },
  {
   "cell_type": "code",
   "execution_count": 37,
   "id": "3419e3cf",
   "metadata": {},
   "outputs": [
    {
     "data": {
      "text/plain": [
       "Timestamp('2011-12-09 12:50:00')"
      ]
     },
     "execution_count": 37,
     "metadata": {},
     "output_type": "execute_result"
    }
   ],
   "source": [
    "#last date available in our dataset\n",
    "rfm_train['InvoiceDate'].max()"
   ]
  },
  {
   "cell_type": "code",
   "execution_count": 38,
   "id": "c1e22bfa",
   "metadata": {},
   "outputs": [],
   "source": [
    "# Lets set this date as the today's date for further analysis\n",
    "current_date = dt.date(2011,12,9)"
   ]
  },
  {
   "cell_type": "code",
   "execution_count": 39,
   "id": "0e414efa",
   "metadata": {},
   "outputs": [],
   "source": [
    "# Lets create a date column for date values only\n",
    "rfm_train['Purchase_Date'] = rfm_train.InvoiceDate.dt.date"
   ]
  },
  {
   "cell_type": "code",
   "execution_count": 40,
   "id": "281a03b8",
   "metadata": {},
   "outputs": [],
   "source": [
    "recency = rfm_train.groupby('CustomerID')['Purchase_Date'].max().reset_index()"
   ]
  },
  {
   "cell_type": "code",
   "execution_count": 41,
   "id": "bea79a81",
   "metadata": {},
   "outputs": [],
   "source": [
    "# Create a separate column for this date.\n",
    "recency = recency.assign(Current_Date = current_date)"
   ]
  },
  {
   "cell_type": "code",
   "execution_count": 42,
   "id": "4e53c879",
   "metadata": {},
   "outputs": [],
   "source": [
    "# Compute the number of days since last purchase\n",
    "recency['Recency'] = recency.Purchase_Date.apply(lambda x: (current_date - x).days)"
   ]
  },
  {
   "cell_type": "code",
   "execution_count": 43,
   "id": "d442f333",
   "metadata": {},
   "outputs": [],
   "source": [
    "# Drop the irrelevant Date columns\n",
    "recency.drop(['Purchase_Date','Current_Date'], axis=1, inplace=True)"
   ]
  },
  {
   "cell_type": "code",
   "execution_count": 44,
   "id": "04e2a41c",
   "metadata": {},
   "outputs": [
    {
     "data": {
      "text/html": [
       "<div>\n",
       "<style scoped>\n",
       "    .dataframe tbody tr th:only-of-type {\n",
       "        vertical-align: middle;\n",
       "    }\n",
       "\n",
       "    .dataframe tbody tr th {\n",
       "        vertical-align: top;\n",
       "    }\n",
       "\n",
       "    .dataframe thead th {\n",
       "        text-align: right;\n",
       "    }\n",
       "</style>\n",
       "<table border=\"1\" class=\"dataframe\">\n",
       "  <thead>\n",
       "    <tr style=\"text-align: right;\">\n",
       "      <th></th>\n",
       "      <th>CustomerID</th>\n",
       "      <th>Recency</th>\n",
       "    </tr>\n",
       "  </thead>\n",
       "  <tbody>\n",
       "    <tr>\n",
       "      <th>0</th>\n",
       "      <td>12346</td>\n",
       "      <td>325</td>\n",
       "    </tr>\n",
       "    <tr>\n",
       "      <th>1</th>\n",
       "      <td>12347</td>\n",
       "      <td>2</td>\n",
       "    </tr>\n",
       "    <tr>\n",
       "      <th>2</th>\n",
       "      <td>12348</td>\n",
       "      <td>75</td>\n",
       "    </tr>\n",
       "    <tr>\n",
       "      <th>3</th>\n",
       "      <td>12349</td>\n",
       "      <td>18</td>\n",
       "    </tr>\n",
       "    <tr>\n",
       "      <th>4</th>\n",
       "      <td>12350</td>\n",
       "      <td>310</td>\n",
       "    </tr>\n",
       "  </tbody>\n",
       "</table>\n",
       "</div>"
      ],
      "text/plain": [
       "   CustomerID  Recency\n",
       "0       12346      325\n",
       "1       12347        2\n",
       "2       12348       75\n",
       "3       12349       18\n",
       "4       12350      310"
      ]
     },
     "execution_count": 44,
     "metadata": {},
     "output_type": "execute_result"
    }
   ],
   "source": [
    "recency.head()"
   ]
  },
  {
   "cell_type": "markdown",
   "id": "a40d8e0d",
   "metadata": {},
   "source": [
    "### Frequency\n",
    "Frequency is about the number of purchase in a given period. It could be 3 months, 6 months or 1 year. So we can understand this value as for how often or how many a customer used the product of a company. The bigger the value is, the more engaged the customers are. Could we say them as our VIP? Not necessary. Cause we also have to think about how much they actually paid for each purchase, which means monetary value"
   ]
  },
  {
   "cell_type": "code",
   "execution_count": 45,
   "id": "a55d891d",
   "metadata": {},
   "outputs": [],
   "source": [
    "frequency = rfm_train.groupby('CustomerID').InvoiceNo.nunique().reset_index().rename(columns={'InvoiceNo':'Frequency'})"
   ]
  },
  {
   "cell_type": "code",
   "execution_count": 46,
   "id": "3dedbe7a",
   "metadata": {},
   "outputs": [
    {
     "data": {
      "text/html": [
       "<div>\n",
       "<style scoped>\n",
       "    .dataframe tbody tr th:only-of-type {\n",
       "        vertical-align: middle;\n",
       "    }\n",
       "\n",
       "    .dataframe tbody tr th {\n",
       "        vertical-align: top;\n",
       "    }\n",
       "\n",
       "    .dataframe thead th {\n",
       "        text-align: right;\n",
       "    }\n",
       "</style>\n",
       "<table border=\"1\" class=\"dataframe\">\n",
       "  <thead>\n",
       "    <tr style=\"text-align: right;\">\n",
       "      <th></th>\n",
       "      <th>CustomerID</th>\n",
       "      <th>Frequency</th>\n",
       "    </tr>\n",
       "  </thead>\n",
       "  <tbody>\n",
       "    <tr>\n",
       "      <th>0</th>\n",
       "      <td>12346</td>\n",
       "      <td>2</td>\n",
       "    </tr>\n",
       "    <tr>\n",
       "      <th>1</th>\n",
       "      <td>12347</td>\n",
       "      <td>7</td>\n",
       "    </tr>\n",
       "    <tr>\n",
       "      <th>2</th>\n",
       "      <td>12348</td>\n",
       "      <td>4</td>\n",
       "    </tr>\n",
       "    <tr>\n",
       "      <th>3</th>\n",
       "      <td>12349</td>\n",
       "      <td>1</td>\n",
       "    </tr>\n",
       "    <tr>\n",
       "      <th>4</th>\n",
       "      <td>12350</td>\n",
       "      <td>1</td>\n",
       "    </tr>\n",
       "  </tbody>\n",
       "</table>\n",
       "</div>"
      ],
      "text/plain": [
       "   CustomerID  Frequency\n",
       "0       12346          2\n",
       "1       12347          7\n",
       "2       12348          4\n",
       "3       12349          1\n",
       "4       12350          1"
      ]
     },
     "execution_count": 46,
     "metadata": {},
     "output_type": "execute_result"
    }
   ],
   "source": [
    "frequency.head()"
   ]
  },
  {
   "cell_type": "markdown",
   "id": "d9bcb5b0",
   "metadata": {},
   "source": [
    "### Monetary\n",
    "Monetary is the total amount of money a customer spent in that given period. Therefore big spenders will be differentiated with other customers such as MVP or VIP."
   ]
  },
  {
   "cell_type": "code",
   "execution_count": 47,
   "id": "99386f66",
   "metadata": {},
   "outputs": [],
   "source": [
    "# Create a separate column for Total Cost of Unit purchased\n",
    "rfm_train['Total_cost'] = rfm_train.Quantity * rfm_train.UnitPrice"
   ]
  },
  {
   "cell_type": "code",
   "execution_count": 48,
   "id": "973fdc9d",
   "metadata": {},
   "outputs": [],
   "source": [
    "monetary = rfm_train.groupby('CustomerID').Total_cost.sum().reset_index().rename(columns={'Total_cost':'Monetary'})"
   ]
  },
  {
   "cell_type": "code",
   "execution_count": 49,
   "id": "dda362d2",
   "metadata": {},
   "outputs": [
    {
     "data": {
      "text/html": [
       "<div>\n",
       "<style scoped>\n",
       "    .dataframe tbody tr th:only-of-type {\n",
       "        vertical-align: middle;\n",
       "    }\n",
       "\n",
       "    .dataframe tbody tr th {\n",
       "        vertical-align: top;\n",
       "    }\n",
       "\n",
       "    .dataframe thead th {\n",
       "        text-align: right;\n",
       "    }\n",
       "</style>\n",
       "<table border=\"1\" class=\"dataframe\">\n",
       "  <thead>\n",
       "    <tr style=\"text-align: right;\">\n",
       "      <th></th>\n",
       "      <th>CustomerID</th>\n",
       "      <th>Monetary</th>\n",
       "    </tr>\n",
       "  </thead>\n",
       "  <tbody>\n",
       "    <tr>\n",
       "      <th>0</th>\n",
       "      <td>12346</td>\n",
       "      <td>0.00</td>\n",
       "    </tr>\n",
       "    <tr>\n",
       "      <th>1</th>\n",
       "      <td>12347</td>\n",
       "      <td>4310.00</td>\n",
       "    </tr>\n",
       "    <tr>\n",
       "      <th>2</th>\n",
       "      <td>12348</td>\n",
       "      <td>1797.24</td>\n",
       "    </tr>\n",
       "    <tr>\n",
       "      <th>3</th>\n",
       "      <td>12349</td>\n",
       "      <td>1757.55</td>\n",
       "    </tr>\n",
       "    <tr>\n",
       "      <th>4</th>\n",
       "      <td>12350</td>\n",
       "      <td>334.40</td>\n",
       "    </tr>\n",
       "  </tbody>\n",
       "</table>\n",
       "</div>"
      ],
      "text/plain": [
       "   CustomerID  Monetary\n",
       "0       12346      0.00\n",
       "1       12347   4310.00\n",
       "2       12348   1797.24\n",
       "3       12349   1757.55\n",
       "4       12350    334.40"
      ]
     },
     "execution_count": 49,
     "metadata": {},
     "output_type": "execute_result"
    }
   ],
   "source": [
    "monetary.head()"
   ]
  },
  {
   "cell_type": "markdown",
   "id": "d7adc392",
   "metadata": {},
   "source": [
    "Now Combine all three to form an aggregated RFM Table"
   ]
  },
  {
   "cell_type": "code",
   "execution_count": 50,
   "id": "e66a3040",
   "metadata": {},
   "outputs": [],
   "source": [
    "temp_ = recency.merge(frequency, on='CustomerID')\n",
    "rfm_table = temp_.merge(monetary, on='CustomerID')"
   ]
  },
  {
   "cell_type": "code",
   "execution_count": 51,
   "id": "015c0014",
   "metadata": {},
   "outputs": [
    {
     "data": {
      "text/html": [
       "<div>\n",
       "<style scoped>\n",
       "    .dataframe tbody tr th:only-of-type {\n",
       "        vertical-align: middle;\n",
       "    }\n",
       "\n",
       "    .dataframe tbody tr th {\n",
       "        vertical-align: top;\n",
       "    }\n",
       "\n",
       "    .dataframe thead th {\n",
       "        text-align: right;\n",
       "    }\n",
       "</style>\n",
       "<table border=\"1\" class=\"dataframe\">\n",
       "  <thead>\n",
       "    <tr style=\"text-align: right;\">\n",
       "      <th></th>\n",
       "      <th>Recency</th>\n",
       "      <th>Frequency</th>\n",
       "      <th>Monetary</th>\n",
       "    </tr>\n",
       "    <tr>\n",
       "      <th>CustomerID</th>\n",
       "      <th></th>\n",
       "      <th></th>\n",
       "      <th></th>\n",
       "    </tr>\n",
       "  </thead>\n",
       "  <tbody>\n",
       "    <tr>\n",
       "      <th>12346</th>\n",
       "      <td>325</td>\n",
       "      <td>2</td>\n",
       "      <td>0.00</td>\n",
       "    </tr>\n",
       "    <tr>\n",
       "      <th>12347</th>\n",
       "      <td>2</td>\n",
       "      <td>7</td>\n",
       "      <td>4310.00</td>\n",
       "    </tr>\n",
       "    <tr>\n",
       "      <th>12348</th>\n",
       "      <td>75</td>\n",
       "      <td>4</td>\n",
       "      <td>1797.24</td>\n",
       "    </tr>\n",
       "    <tr>\n",
       "      <th>12349</th>\n",
       "      <td>18</td>\n",
       "      <td>1</td>\n",
       "      <td>1757.55</td>\n",
       "    </tr>\n",
       "    <tr>\n",
       "      <th>12350</th>\n",
       "      <td>310</td>\n",
       "      <td>1</td>\n",
       "      <td>334.40</td>\n",
       "    </tr>\n",
       "  </tbody>\n",
       "</table>\n",
       "</div>"
      ],
      "text/plain": [
       "            Recency  Frequency  Monetary\n",
       "CustomerID                              \n",
       "12346           325          2      0.00\n",
       "12347             2          7   4310.00\n",
       "12348            75          4   1797.24\n",
       "12349            18          1   1757.55\n",
       "12350           310          1    334.40"
      ]
     },
     "execution_count": 51,
     "metadata": {},
     "output_type": "execute_result"
    }
   ],
   "source": [
    "rfm_table.set_index('CustomerID',inplace=True)\n",
    "rfm_table.head()"
   ]
  },
  {
   "cell_type": "markdown",
   "id": "f3d4c3d3",
   "metadata": {},
   "source": [
    "### RFM Table integrity Check\n",
    "Let's check whether the RFM table attributes are in conjunction with the original values"
   ]
  },
  {
   "cell_type": "code",
   "execution_count": 52,
   "id": "6c0b0480",
   "metadata": {},
   "outputs": [
    {
     "data": {
      "text/html": [
       "<div>\n",
       "<style scoped>\n",
       "    .dataframe tbody tr th:only-of-type {\n",
       "        vertical-align: middle;\n",
       "    }\n",
       "\n",
       "    .dataframe tbody tr th {\n",
       "        vertical-align: top;\n",
       "    }\n",
       "\n",
       "    .dataframe thead th {\n",
       "        text-align: right;\n",
       "    }\n",
       "</style>\n",
       "<table border=\"1\" class=\"dataframe\">\n",
       "  <thead>\n",
       "    <tr style=\"text-align: right;\">\n",
       "      <th></th>\n",
       "      <th>InvoiceNo</th>\n",
       "      <th>StockCode</th>\n",
       "      <th>Description</th>\n",
       "      <th>Quantity</th>\n",
       "      <th>InvoiceDate</th>\n",
       "      <th>UnitPrice</th>\n",
       "      <th>CustomerID</th>\n",
       "      <th>Country</th>\n",
       "      <th>Purchase_Date</th>\n",
       "      <th>Total_cost</th>\n",
       "    </tr>\n",
       "  </thead>\n",
       "  <tbody>\n",
       "    <tr>\n",
       "      <th>61619</th>\n",
       "      <td>541431</td>\n",
       "      <td>23166</td>\n",
       "      <td>MEDIUM CERAMIC TOP STORAGE JAR</td>\n",
       "      <td>74215</td>\n",
       "      <td>2011-01-18 10:01:00</td>\n",
       "      <td>1.04</td>\n",
       "      <td>12346</td>\n",
       "      <td>United Kingdom</td>\n",
       "      <td>2011-01-18</td>\n",
       "      <td>77183.60</td>\n",
       "    </tr>\n",
       "    <tr>\n",
       "      <th>61624</th>\n",
       "      <td>C541433</td>\n",
       "      <td>23166</td>\n",
       "      <td>MEDIUM CERAMIC TOP STORAGE JAR</td>\n",
       "      <td>-74215</td>\n",
       "      <td>2011-01-18 10:17:00</td>\n",
       "      <td>1.04</td>\n",
       "      <td>12346</td>\n",
       "      <td>United Kingdom</td>\n",
       "      <td>2011-01-18</td>\n",
       "      <td>-77183.60</td>\n",
       "    </tr>\n",
       "  </tbody>\n",
       "</table>\n",
       "</div>"
      ],
      "text/plain": [
       "      InvoiceNo StockCode                     Description  Quantity  \\\n",
       "61619    541431     23166  MEDIUM CERAMIC TOP STORAGE JAR     74215   \n",
       "61624   C541433     23166  MEDIUM CERAMIC TOP STORAGE JAR    -74215   \n",
       "\n",
       "              InvoiceDate  UnitPrice  CustomerID         Country  \\\n",
       "61619 2011-01-18 10:01:00       1.04       12346  United Kingdom   \n",
       "61624 2011-01-18 10:17:00       1.04       12346  United Kingdom   \n",
       "\n",
       "      Purchase_Date  Total_cost  \n",
       "61619    2011-01-18    77183.60  \n",
       "61624    2011-01-18   -77183.60  "
      ]
     },
     "execution_count": 52,
     "metadata": {},
     "output_type": "execute_result"
    }
   ],
   "source": [
    "# Fetch the records corresponding to the first customer id in above table\n",
    "rfm_train[rfm_train.CustomerID == rfm_table.index[0]]"
   ]
  },
  {
   "cell_type": "code",
   "execution_count": 53,
   "id": "2bde3c6e",
   "metadata": {},
   "outputs": [
    {
     "data": {
      "text/plain": [
       "True"
      ]
     },
     "execution_count": 53,
     "metadata": {},
     "output_type": "execute_result"
    }
   ],
   "source": [
    "# Check if the number difference of days from the purchase date in original record is same as shown in rfm table.\n",
    "(current_date - rfm_train[rfm_train.CustomerID == rfm_table.index[0]].iloc[0].Purchase_Date).days == rfm_table.iloc[0,0]"
   ]
  },
  {
   "cell_type": "markdown",
   "id": "7defad24",
   "metadata": {},
   "source": [
    "### Customer segments with RFM Model\n",
    "The simplest way to create customers segments from RFM Model is to use Quantiles. We assign a score from 1 to 4 to Recency, Frequency and Monetary. Four is the best/highest value, and one is the lowest/worst value. A final RFM score is calculated simply by combining individual RFM score numbers."
   ]
  },
  {
   "cell_type": "code",
   "execution_count": 54,
   "id": "1492c21a",
   "metadata": {},
   "outputs": [
    {
     "data": {
      "text/html": [
       "<div>\n",
       "<style scoped>\n",
       "    .dataframe tbody tr th:only-of-type {\n",
       "        vertical-align: middle;\n",
       "    }\n",
       "\n",
       "    .dataframe tbody tr th {\n",
       "        vertical-align: top;\n",
       "    }\n",
       "\n",
       "    .dataframe thead th {\n",
       "        text-align: right;\n",
       "    }\n",
       "</style>\n",
       "<table border=\"1\" class=\"dataframe\">\n",
       "  <thead>\n",
       "    <tr style=\"text-align: right;\">\n",
       "      <th></th>\n",
       "      <th>Recency</th>\n",
       "      <th>Frequency</th>\n",
       "      <th>Monetary</th>\n",
       "    </tr>\n",
       "  </thead>\n",
       "  <tbody>\n",
       "    <tr>\n",
       "      <th>0.25</th>\n",
       "      <td>16.00</td>\n",
       "      <td>1.00</td>\n",
       "      <td>291.79</td>\n",
       "    </tr>\n",
       "    <tr>\n",
       "      <th>0.50</th>\n",
       "      <td>50.00</td>\n",
       "      <td>3.00</td>\n",
       "      <td>644.07</td>\n",
       "    </tr>\n",
       "    <tr>\n",
       "      <th>0.75</th>\n",
       "      <td>143.00</td>\n",
       "      <td>5.00</td>\n",
       "      <td>1608.34</td>\n",
       "    </tr>\n",
       "  </tbody>\n",
       "</table>\n",
       "</div>"
      ],
      "text/plain": [
       "      Recency  Frequency  Monetary\n",
       "0.25    16.00       1.00    291.79\n",
       "0.50    50.00       3.00    644.07\n",
       "0.75   143.00       5.00   1608.34"
      ]
     },
     "execution_count": 54,
     "metadata": {},
     "output_type": "execute_result"
    }
   ],
   "source": [
    "# RFM Quantiles\n",
    "# rfm_table.describe()\n",
    "quantiles = rfm_table.quantile(q=[0.25,0.5,0.75])\n",
    "quantiles"
   ]
  },
  {
   "cell_type": "code",
   "execution_count": 55,
   "id": "e5b8c3d9",
   "metadata": {},
   "outputs": [
    {
     "data": {
      "text/plain": [
       "{'Recency': {0.25: 16.0, 0.5: 50.0, 0.75: 143.0},\n",
       " 'Frequency': {0.25: 1.0, 0.5: 3.0, 0.75: 5.0},\n",
       " 'Monetary': {0.25: 291.79499999999996,\n",
       "  0.5: 644.0700000000002,\n",
       "  0.75: 1608.335}}"
      ]
     },
     "execution_count": 55,
     "metadata": {},
     "output_type": "execute_result"
    }
   ],
   "source": [
    "# Let's convert quartile information into a dictionary so that cutoffs can be picked up.\n",
    "quantiles=quantiles.to_dict()\n",
    "quantiles"
   ]
  },
  {
   "cell_type": "markdown",
   "id": "c9f1d305",
   "metadata": {},
   "source": [
    "### Creation of RFM Segments\n",
    "We will create two segmentation classes since, high recency is bad, while high frequency and monetary value is good"
   ]
  },
  {
   "cell_type": "code",
   "execution_count": 56,
   "id": "2012f323",
   "metadata": {},
   "outputs": [],
   "source": [
    "# Arguments (x = value, p = recency, monetary_value, frequency, d = quantiles dict)\n",
    "def RScore(x,p,d):\n",
    "    if x <= d[p][0.25]:\n",
    "        return 4\n",
    "    elif x <= d[p][0.50]:\n",
    "        return 3\n",
    "    elif x <= d[p][0.75]: \n",
    "        return 2\n",
    "    else:\n",
    "        return 1"
   ]
  },
  {
   "cell_type": "code",
   "execution_count": 57,
   "id": "22c0996d",
   "metadata": {},
   "outputs": [],
   "source": [
    "# Arguments (x = value, p = recency, monetary_value, frequency, k = quantiles dict)\n",
    "def FMScore(x,p,d):\n",
    "    if x <= d[p][0.25]:\n",
    "        return 1\n",
    "    elif x <= d[p][0.50]:\n",
    "        return 2\n",
    "    elif x <= d[p][0.75]: \n",
    "        return 3\n",
    "    else:\n",
    "        return 4"
   ]
  },
  {
   "cell_type": "code",
   "execution_count": 58,
   "id": "e40074da",
   "metadata": {},
   "outputs": [],
   "source": [
    "rfm_segment = rfm_table.copy()\n",
    "rfm_segment['R_Quartile'] = rfm_segment['Recency'].apply(RScore, args=('Recency',quantiles,))\n",
    "rfm_segment['F_Quartile'] = rfm_segment['Frequency'].apply(FMScore, args=('Frequency',quantiles,))\n",
    "rfm_segment['M_Quartile'] = rfm_segment['Monetary'].apply(FMScore, args=('Monetary',quantiles,))"
   ]
  },
  {
   "cell_type": "code",
   "execution_count": 59,
   "id": "454a69de",
   "metadata": {},
   "outputs": [
    {
     "data": {
      "text/html": [
       "<div>\n",
       "<style scoped>\n",
       "    .dataframe tbody tr th:only-of-type {\n",
       "        vertical-align: middle;\n",
       "    }\n",
       "\n",
       "    .dataframe tbody tr th {\n",
       "        vertical-align: top;\n",
       "    }\n",
       "\n",
       "    .dataframe thead th {\n",
       "        text-align: right;\n",
       "    }\n",
       "</style>\n",
       "<table border=\"1\" class=\"dataframe\">\n",
       "  <thead>\n",
       "    <tr style=\"text-align: right;\">\n",
       "      <th></th>\n",
       "      <th>Recency</th>\n",
       "      <th>Frequency</th>\n",
       "      <th>Monetary</th>\n",
       "      <th>R_Quartile</th>\n",
       "      <th>F_Quartile</th>\n",
       "      <th>M_Quartile</th>\n",
       "    </tr>\n",
       "    <tr>\n",
       "      <th>CustomerID</th>\n",
       "      <th></th>\n",
       "      <th></th>\n",
       "      <th></th>\n",
       "      <th></th>\n",
       "      <th></th>\n",
       "      <th></th>\n",
       "    </tr>\n",
       "  </thead>\n",
       "  <tbody>\n",
       "    <tr>\n",
       "      <th>12346</th>\n",
       "      <td>325</td>\n",
       "      <td>2</td>\n",
       "      <td>0.00</td>\n",
       "      <td>1</td>\n",
       "      <td>2</td>\n",
       "      <td>1</td>\n",
       "    </tr>\n",
       "    <tr>\n",
       "      <th>12347</th>\n",
       "      <td>2</td>\n",
       "      <td>7</td>\n",
       "      <td>4310.00</td>\n",
       "      <td>4</td>\n",
       "      <td>4</td>\n",
       "      <td>4</td>\n",
       "    </tr>\n",
       "    <tr>\n",
       "      <th>12348</th>\n",
       "      <td>75</td>\n",
       "      <td>4</td>\n",
       "      <td>1797.24</td>\n",
       "      <td>2</td>\n",
       "      <td>3</td>\n",
       "      <td>4</td>\n",
       "    </tr>\n",
       "    <tr>\n",
       "      <th>12349</th>\n",
       "      <td>18</td>\n",
       "      <td>1</td>\n",
       "      <td>1757.55</td>\n",
       "      <td>3</td>\n",
       "      <td>1</td>\n",
       "      <td>4</td>\n",
       "    </tr>\n",
       "    <tr>\n",
       "      <th>12350</th>\n",
       "      <td>310</td>\n",
       "      <td>1</td>\n",
       "      <td>334.40</td>\n",
       "      <td>1</td>\n",
       "      <td>1</td>\n",
       "      <td>2</td>\n",
       "    </tr>\n",
       "  </tbody>\n",
       "</table>\n",
       "</div>"
      ],
      "text/plain": [
       "            Recency  Frequency  Monetary  R_Quartile  F_Quartile  M_Quartile\n",
       "CustomerID                                                                  \n",
       "12346           325          2      0.00           1           2           1\n",
       "12347             2          7   4310.00           4           4           4\n",
       "12348            75          4   1797.24           2           3           4\n",
       "12349            18          1   1757.55           3           1           4\n",
       "12350           310          1    334.40           1           1           2"
      ]
     },
     "execution_count": 59,
     "metadata": {},
     "output_type": "execute_result"
    }
   ],
   "source": [
    "rfm_segment.head()"
   ]
  },
  {
   "cell_type": "markdown",
   "id": "c75d80e8",
   "metadata": {},
   "source": [
    "For analysis it is critical to combine the scores to create a single score. There are few approaches. One approach is to just concatenate the scores to create a 3 digit number between 111 and 444. Here the drawback is too many categories (4x4x4)."
   ]
  },
  {
   "cell_type": "code",
   "execution_count": 60,
   "id": "91b047a7",
   "metadata": {},
   "outputs": [
    {
     "data": {
      "text/html": [
       "<div>\n",
       "<style scoped>\n",
       "    .dataframe tbody tr th:only-of-type {\n",
       "        vertical-align: middle;\n",
       "    }\n",
       "\n",
       "    .dataframe tbody tr th {\n",
       "        vertical-align: top;\n",
       "    }\n",
       "\n",
       "    .dataframe thead th {\n",
       "        text-align: right;\n",
       "    }\n",
       "</style>\n",
       "<table border=\"1\" class=\"dataframe\">\n",
       "  <thead>\n",
       "    <tr style=\"text-align: right;\">\n",
       "      <th></th>\n",
       "      <th>Recency</th>\n",
       "      <th>Frequency</th>\n",
       "      <th>Monetary</th>\n",
       "      <th>R_Quartile</th>\n",
       "      <th>F_Quartile</th>\n",
       "      <th>M_Quartile</th>\n",
       "      <th>RFMScore</th>\n",
       "    </tr>\n",
       "    <tr>\n",
       "      <th>CustomerID</th>\n",
       "      <th></th>\n",
       "      <th></th>\n",
       "      <th></th>\n",
       "      <th></th>\n",
       "      <th></th>\n",
       "      <th></th>\n",
       "      <th></th>\n",
       "    </tr>\n",
       "  </thead>\n",
       "  <tbody>\n",
       "    <tr>\n",
       "      <th>12346</th>\n",
       "      <td>325</td>\n",
       "      <td>2</td>\n",
       "      <td>0.00</td>\n",
       "      <td>1</td>\n",
       "      <td>2</td>\n",
       "      <td>1</td>\n",
       "      <td>121</td>\n",
       "    </tr>\n",
       "    <tr>\n",
       "      <th>12347</th>\n",
       "      <td>2</td>\n",
       "      <td>7</td>\n",
       "      <td>4310.00</td>\n",
       "      <td>4</td>\n",
       "      <td>4</td>\n",
       "      <td>4</td>\n",
       "      <td>444</td>\n",
       "    </tr>\n",
       "    <tr>\n",
       "      <th>12348</th>\n",
       "      <td>75</td>\n",
       "      <td>4</td>\n",
       "      <td>1797.24</td>\n",
       "      <td>2</td>\n",
       "      <td>3</td>\n",
       "      <td>4</td>\n",
       "      <td>234</td>\n",
       "    </tr>\n",
       "    <tr>\n",
       "      <th>12349</th>\n",
       "      <td>18</td>\n",
       "      <td>1</td>\n",
       "      <td>1757.55</td>\n",
       "      <td>3</td>\n",
       "      <td>1</td>\n",
       "      <td>4</td>\n",
       "      <td>314</td>\n",
       "    </tr>\n",
       "    <tr>\n",
       "      <th>12350</th>\n",
       "      <td>310</td>\n",
       "      <td>1</td>\n",
       "      <td>334.40</td>\n",
       "      <td>1</td>\n",
       "      <td>1</td>\n",
       "      <td>2</td>\n",
       "      <td>112</td>\n",
       "    </tr>\n",
       "  </tbody>\n",
       "</table>\n",
       "</div>"
      ],
      "text/plain": [
       "            Recency  Frequency  Monetary  R_Quartile  F_Quartile  M_Quartile  \\\n",
       "CustomerID                                                                     \n",
       "12346           325          2      0.00           1           2           1   \n",
       "12347             2          7   4310.00           4           4           4   \n",
       "12348            75          4   1797.24           2           3           4   \n",
       "12349            18          1   1757.55           3           1           4   \n",
       "12350           310          1    334.40           1           1           2   \n",
       "\n",
       "           RFMScore  \n",
       "CustomerID           \n",
       "12346           121  \n",
       "12347           444  \n",
       "12348           234  \n",
       "12349           314  \n",
       "12350           112  "
      ]
     },
     "execution_count": 60,
     "metadata": {},
     "output_type": "execute_result"
    }
   ],
   "source": [
    "rfm_segment['RFMScore'] = rfm_segment.R_Quartile.map(str) \\\n",
    "                            + rfm_segment.F_Quartile.map(str) \\\n",
    "                            + rfm_segment.M_Quartile.map(str)\n",
    "rfm_segment.head()"
   ]
  },
  {
   "cell_type": "markdown",
   "id": "2be35540",
   "metadata": {},
   "source": [
    "- Best Recency score = 4 (most recently purchase)\n",
    "- Best Frequency score = 4 (most frequently purchase)\n",
    "- Best Monetary score = 4 (who spent the most)\n",
    "### RFM Segment allocation\n",
    "Lets define the customers segment best to our knowledge basis RFM score and assign them to each customer respectively."
   ]
  },
  {
   "cell_type": "code",
   "execution_count": 61,
   "id": "cbc38f9a",
   "metadata": {},
   "outputs": [],
   "source": [
    "# Reset the index to create a customer_ID column\n",
    "rfm_segment.reset_index(inplace=True)"
   ]
  },
  {
   "cell_type": "code",
   "execution_count": 62,
   "id": "15caa22d",
   "metadata": {},
   "outputs": [],
   "source": [
    "# Create a dictionary for each segment to map them against each customer\n",
    "segment_dict = {\n",
    "    'Best Customers':'444',      # Highest frequency as well as monetary value with least recency\n",
    "    'Loyal Customers':'344',     # High frequency as well as monetary value with good recency\n",
    "    'Big Spenders':'334',        # High monetary value but good recency and frequency values\n",
    "    'Almost Lost':'244',         # Customer's shopping less often now who used to shop a lot\n",
    "    'Lost Customers':'144',      # Customer's shopped long ago who used to shop a lot.\n",
    "    'Recent Customers':'443',    # Customer's who recently started shopping a lot but with less monetary value\n",
    "    'Lost Cheap Customers':'122' # Customer's shopped long ago but with less frequency and monetary value\n",
    "}"
   ]
  },
  {
   "cell_type": "code",
   "execution_count": 63,
   "id": "2345bfad",
   "metadata": {},
   "outputs": [],
   "source": [
    "# Swap the key and value of dictionary\n",
    "dict_segment = dict(zip(segment_dict.values(),segment_dict.keys()))"
   ]
  },
  {
   "cell_type": "code",
   "execution_count": 64,
   "id": "af65e0c6",
   "metadata": {},
   "outputs": [],
   "source": [
    "# Allocate segments to each customer as per the RFM score mapping\n",
    "rfm_segment['Segment'] = rfm_segment.RFMScore.map(lambda x: dict_segment.get(x))"
   ]
  },
  {
   "cell_type": "code",
   "execution_count": 65,
   "id": "beec5441",
   "metadata": {},
   "outputs": [],
   "source": [
    "# Allocate all remaining customers to others segment category\n",
    "rfm_segment.Segment.fillna('others', inplace=True)"
   ]
  },
  {
   "cell_type": "code",
   "execution_count": 66,
   "id": "9d1f9088",
   "metadata": {},
   "outputs": [
    {
     "data": {
      "text/html": [
       "<div>\n",
       "<style scoped>\n",
       "    .dataframe tbody tr th:only-of-type {\n",
       "        vertical-align: middle;\n",
       "    }\n",
       "\n",
       "    .dataframe tbody tr th {\n",
       "        vertical-align: top;\n",
       "    }\n",
       "\n",
       "    .dataframe thead th {\n",
       "        text-align: right;\n",
       "    }\n",
       "</style>\n",
       "<table border=\"1\" class=\"dataframe\">\n",
       "  <thead>\n",
       "    <tr style=\"text-align: right;\">\n",
       "      <th></th>\n",
       "      <th>CustomerID</th>\n",
       "      <th>Recency</th>\n",
       "      <th>Frequency</th>\n",
       "      <th>Monetary</th>\n",
       "      <th>R_Quartile</th>\n",
       "      <th>F_Quartile</th>\n",
       "      <th>M_Quartile</th>\n",
       "      <th>RFMScore</th>\n",
       "      <th>Segment</th>\n",
       "    </tr>\n",
       "  </thead>\n",
       "  <tbody>\n",
       "    <tr>\n",
       "      <th>1263</th>\n",
       "      <td>14046</td>\n",
       "      <td>284</td>\n",
       "      <td>1</td>\n",
       "      <td>154.99</td>\n",
       "      <td>1</td>\n",
       "      <td>1</td>\n",
       "      <td>1</td>\n",
       "      <td>111</td>\n",
       "      <td>others</td>\n",
       "    </tr>\n",
       "    <tr>\n",
       "      <th>3146</th>\n",
       "      <td>16607</td>\n",
       "      <td>17</td>\n",
       "      <td>16</td>\n",
       "      <td>3038.67</td>\n",
       "      <td>3</td>\n",
       "      <td>4</td>\n",
       "      <td>4</td>\n",
       "      <td>344</td>\n",
       "      <td>Loyal Customers</td>\n",
       "    </tr>\n",
       "    <tr>\n",
       "      <th>4289</th>\n",
       "      <td>18177</td>\n",
       "      <td>31</td>\n",
       "      <td>7</td>\n",
       "      <td>1313.62</td>\n",
       "      <td>3</td>\n",
       "      <td>4</td>\n",
       "      <td>3</td>\n",
       "      <td>343</td>\n",
       "      <td>others</td>\n",
       "    </tr>\n",
       "    <tr>\n",
       "      <th>86</th>\n",
       "      <td>12451</td>\n",
       "      <td>10</td>\n",
       "      <td>6</td>\n",
       "      <td>8933.52</td>\n",
       "      <td>4</td>\n",
       "      <td>4</td>\n",
       "      <td>4</td>\n",
       "      <td>444</td>\n",
       "      <td>Best Customers</td>\n",
       "    </tr>\n",
       "    <tr>\n",
       "      <th>2231</th>\n",
       "      <td>15364</td>\n",
       "      <td>95</td>\n",
       "      <td>2</td>\n",
       "      <td>913.19</td>\n",
       "      <td>2</td>\n",
       "      <td>2</td>\n",
       "      <td>3</td>\n",
       "      <td>223</td>\n",
       "      <td>others</td>\n",
       "    </tr>\n",
       "    <tr>\n",
       "      <th>4236</th>\n",
       "      <td>18106</td>\n",
       "      <td>329</td>\n",
       "      <td>1</td>\n",
       "      <td>421.90</td>\n",
       "      <td>1</td>\n",
       "      <td>1</td>\n",
       "      <td>2</td>\n",
       "      <td>112</td>\n",
       "      <td>others</td>\n",
       "    </tr>\n",
       "    <tr>\n",
       "      <th>249</th>\n",
       "      <td>12648</td>\n",
       "      <td>154</td>\n",
       "      <td>1</td>\n",
       "      <td>318.05</td>\n",
       "      <td>1</td>\n",
       "      <td>1</td>\n",
       "      <td>2</td>\n",
       "      <td>112</td>\n",
       "      <td>others</td>\n",
       "    </tr>\n",
       "    <tr>\n",
       "      <th>2924</th>\n",
       "      <td>16305</td>\n",
       "      <td>138</td>\n",
       "      <td>1</td>\n",
       "      <td>361.22</td>\n",
       "      <td>2</td>\n",
       "      <td>1</td>\n",
       "      <td>2</td>\n",
       "      <td>212</td>\n",
       "      <td>others</td>\n",
       "    </tr>\n",
       "    <tr>\n",
       "      <th>332</th>\n",
       "      <td>12750</td>\n",
       "      <td>128</td>\n",
       "      <td>1</td>\n",
       "      <td>275.88</td>\n",
       "      <td>2</td>\n",
       "      <td>1</td>\n",
       "      <td>1</td>\n",
       "      <td>211</td>\n",
       "      <td>others</td>\n",
       "    </tr>\n",
       "    <tr>\n",
       "      <th>2425</th>\n",
       "      <td>15622</td>\n",
       "      <td>3</td>\n",
       "      <td>16</td>\n",
       "      <td>3224.53</td>\n",
       "      <td>4</td>\n",
       "      <td>4</td>\n",
       "      <td>4</td>\n",
       "      <td>444</td>\n",
       "      <td>Best Customers</td>\n",
       "    </tr>\n",
       "  </tbody>\n",
       "</table>\n",
       "</div>"
      ],
      "text/plain": [
       "      CustomerID  Recency  Frequency  Monetary  R_Quartile  F_Quartile  \\\n",
       "1263       14046      284          1    154.99           1           1   \n",
       "3146       16607       17         16   3038.67           3           4   \n",
       "4289       18177       31          7   1313.62           3           4   \n",
       "86         12451       10          6   8933.52           4           4   \n",
       "2231       15364       95          2    913.19           2           2   \n",
       "4236       18106      329          1    421.90           1           1   \n",
       "249        12648      154          1    318.05           1           1   \n",
       "2924       16305      138          1    361.22           2           1   \n",
       "332        12750      128          1    275.88           2           1   \n",
       "2425       15622        3         16   3224.53           4           4   \n",
       "\n",
       "      M_Quartile RFMScore          Segment  \n",
       "1263           1      111           others  \n",
       "3146           4      344  Loyal Customers  \n",
       "4289           3      343           others  \n",
       "86             4      444   Best Customers  \n",
       "2231           3      223           others  \n",
       "4236           2      112           others  \n",
       "249            2      112           others  \n",
       "2924           2      212           others  \n",
       "332            1      211           others  \n",
       "2425           4      444   Best Customers  "
      ]
     },
     "execution_count": 66,
     "metadata": {},
     "output_type": "execute_result"
    }
   ],
   "source": [
    "rfm_segment.sample(10)"
   ]
  },
  {
   "cell_type": "code",
   "execution_count": 67,
   "id": "ea5ba5a4",
   "metadata": {},
   "outputs": [],
   "source": [
    "# saving the excel\n",
    "rfm_segment.to_excel('RFM_segment_online_Retail.xlsx')"
   ]
  },
  {
   "cell_type": "code",
   "execution_count": 68,
   "id": "c4676d2c",
   "metadata": {},
   "outputs": [
    {
     "data": {
      "text/html": [
       "<div>\n",
       "<style scoped>\n",
       "    .dataframe tbody tr th:only-of-type {\n",
       "        vertical-align: middle;\n",
       "    }\n",
       "\n",
       "    .dataframe tbody tr th {\n",
       "        vertical-align: top;\n",
       "    }\n",
       "\n",
       "    .dataframe thead th {\n",
       "        text-align: right;\n",
       "    }\n",
       "</style>\n",
       "<table border=\"1\" class=\"dataframe\">\n",
       "  <thead>\n",
       "    <tr style=\"text-align: right;\">\n",
       "      <th></th>\n",
       "      <th>CustomerID</th>\n",
       "      <th>Recency</th>\n",
       "      <th>Frequency</th>\n",
       "      <th>Monetary</th>\n",
       "      <th>R_Quartile</th>\n",
       "      <th>F_Quartile</th>\n",
       "      <th>M_Quartile</th>\n",
       "      <th>RFMScore</th>\n",
       "      <th>Segment</th>\n",
       "    </tr>\n",
       "  </thead>\n",
       "  <tbody>\n",
       "    <tr>\n",
       "      <th>1703</th>\n",
       "      <td>14646</td>\n",
       "      <td>1</td>\n",
       "      <td>77</td>\n",
       "      <td>279489.02</td>\n",
       "      <td>4</td>\n",
       "      <td>4</td>\n",
       "      <td>4</td>\n",
       "      <td>444</td>\n",
       "      <td>Best Customers</td>\n",
       "    </tr>\n",
       "    <tr>\n",
       "      <th>4233</th>\n",
       "      <td>18102</td>\n",
       "      <td>0</td>\n",
       "      <td>62</td>\n",
       "      <td>256438.49</td>\n",
       "      <td>4</td>\n",
       "      <td>4</td>\n",
       "      <td>4</td>\n",
       "      <td>444</td>\n",
       "      <td>Best Customers</td>\n",
       "    </tr>\n",
       "    <tr>\n",
       "      <th>3758</th>\n",
       "      <td>17450</td>\n",
       "      <td>8</td>\n",
       "      <td>55</td>\n",
       "      <td>187322.17</td>\n",
       "      <td>4</td>\n",
       "      <td>4</td>\n",
       "      <td>4</td>\n",
       "      <td>444</td>\n",
       "      <td>Best Customers</td>\n",
       "    </tr>\n",
       "    <tr>\n",
       "      <th>1895</th>\n",
       "      <td>14911</td>\n",
       "      <td>1</td>\n",
       "      <td>248</td>\n",
       "      <td>132458.73</td>\n",
       "      <td>4</td>\n",
       "      <td>4</td>\n",
       "      <td>4</td>\n",
       "      <td>444</td>\n",
       "      <td>Best Customers</td>\n",
       "    </tr>\n",
       "    <tr>\n",
       "      <th>1345</th>\n",
       "      <td>14156</td>\n",
       "      <td>9</td>\n",
       "      <td>66</td>\n",
       "      <td>113214.59</td>\n",
       "      <td>4</td>\n",
       "      <td>4</td>\n",
       "      <td>4</td>\n",
       "      <td>444</td>\n",
       "      <td>Best Customers</td>\n",
       "    </tr>\n",
       "  </tbody>\n",
       "</table>\n",
       "</div>"
      ],
      "text/plain": [
       "      CustomerID  Recency  Frequency  Monetary  R_Quartile  F_Quartile  \\\n",
       "1703       14646        1         77 279489.02           4           4   \n",
       "4233       18102        0         62 256438.49           4           4   \n",
       "3758       17450        8         55 187322.17           4           4   \n",
       "1895       14911        1        248 132458.73           4           4   \n",
       "1345       14156        9         66 113214.59           4           4   \n",
       "\n",
       "      M_Quartile RFMScore         Segment  \n",
       "1703           4      444  Best Customers  \n",
       "4233           4      444  Best Customers  \n",
       "3758           4      444  Best Customers  \n",
       "1895           4      444  Best Customers  \n",
       "1345           4      444  Best Customers  "
      ]
     },
     "execution_count": 68,
     "metadata": {},
     "output_type": "execute_result"
    }
   ],
   "source": [
    "# Best Customers who's recency, frequency as well as monetary attribute is highest.\n",
    "rfm_segment[rfm_segment.RFMScore=='444'].sort_values('Monetary', ascending=False).head()"
   ]
  },
  {
   "cell_type": "code",
   "execution_count": 69,
   "id": "d1a965a8",
   "metadata": {},
   "outputs": [
    {
     "data": {
      "text/html": [
       "<div>\n",
       "<style scoped>\n",
       "    .dataframe tbody tr th:only-of-type {\n",
       "        vertical-align: middle;\n",
       "    }\n",
       "\n",
       "    .dataframe tbody tr th {\n",
       "        vertical-align: top;\n",
       "    }\n",
       "\n",
       "    .dataframe thead th {\n",
       "        text-align: right;\n",
       "    }\n",
       "</style>\n",
       "<table border=\"1\" class=\"dataframe\">\n",
       "  <thead>\n",
       "    <tr style=\"text-align: right;\">\n",
       "      <th></th>\n",
       "      <th>CustomerID</th>\n",
       "      <th>Recency</th>\n",
       "      <th>Frequency</th>\n",
       "      <th>Monetary</th>\n",
       "      <th>R_Quartile</th>\n",
       "      <th>F_Quartile</th>\n",
       "      <th>M_Quartile</th>\n",
       "      <th>RFMScore</th>\n",
       "      <th>Segment</th>\n",
       "    </tr>\n",
       "  </thead>\n",
       "  <tbody>\n",
       "    <tr>\n",
       "      <th>2794</th>\n",
       "      <td>16126</td>\n",
       "      <td>29</td>\n",
       "      <td>4</td>\n",
       "      <td>6287.77</td>\n",
       "      <td>3</td>\n",
       "      <td>3</td>\n",
       "      <td>4</td>\n",
       "      <td>334</td>\n",
       "      <td>Big Spenders</td>\n",
       "    </tr>\n",
       "    <tr>\n",
       "      <th>737</th>\n",
       "      <td>13316</td>\n",
       "      <td>37</td>\n",
       "      <td>5</td>\n",
       "      <td>5570.69</td>\n",
       "      <td>3</td>\n",
       "      <td>3</td>\n",
       "      <td>4</td>\n",
       "      <td>334</td>\n",
       "      <td>Big Spenders</td>\n",
       "    </tr>\n",
       "    <tr>\n",
       "      <th>2923</th>\n",
       "      <td>16303</td>\n",
       "      <td>25</td>\n",
       "      <td>4</td>\n",
       "      <td>5305.83</td>\n",
       "      <td>3</td>\n",
       "      <td>3</td>\n",
       "      <td>4</td>\n",
       "      <td>334</td>\n",
       "      <td>Big Spenders</td>\n",
       "    </tr>\n",
       "    <tr>\n",
       "      <th>2897</th>\n",
       "      <td>16258</td>\n",
       "      <td>45</td>\n",
       "      <td>5</td>\n",
       "      <td>5203.51</td>\n",
       "      <td>3</td>\n",
       "      <td>3</td>\n",
       "      <td>4</td>\n",
       "      <td>334</td>\n",
       "      <td>Big Spenders</td>\n",
       "    </tr>\n",
       "    <tr>\n",
       "      <th>70</th>\n",
       "      <td>12432</td>\n",
       "      <td>42</td>\n",
       "      <td>5</td>\n",
       "      <td>5059.32</td>\n",
       "      <td>3</td>\n",
       "      <td>3</td>\n",
       "      <td>4</td>\n",
       "      <td>334</td>\n",
       "      <td>Big Spenders</td>\n",
       "    </tr>\n",
       "  </tbody>\n",
       "</table>\n",
       "</div>"
      ],
      "text/plain": [
       "      CustomerID  Recency  Frequency  Monetary  R_Quartile  F_Quartile  \\\n",
       "2794       16126       29          4   6287.77           3           3   \n",
       "737        13316       37          5   5570.69           3           3   \n",
       "2923       16303       25          4   5305.83           3           3   \n",
       "2897       16258       45          5   5203.51           3           3   \n",
       "70         12432       42          5   5059.32           3           3   \n",
       "\n",
       "      M_Quartile RFMScore       Segment  \n",
       "2794           4      334  Big Spenders  \n",
       "737            4      334  Big Spenders  \n",
       "2923           4      334  Big Spenders  \n",
       "2897           4      334  Big Spenders  \n",
       "70             4      334  Big Spenders  "
      ]
     },
     "execution_count": 69,
     "metadata": {},
     "output_type": "execute_result"
    }
   ],
   "source": [
    "# Biggest spenders\n",
    "rfm_segment[rfm_segment.RFMScore=='334'].sort_values('Monetary', ascending=False).head()"
   ]
  },
  {
   "cell_type": "code",
   "execution_count": 70,
   "id": "c9b126a3",
   "metadata": {},
   "outputs": [
    {
     "data": {
      "text/html": [
       "<div>\n",
       "<style scoped>\n",
       "    .dataframe tbody tr th:only-of-type {\n",
       "        vertical-align: middle;\n",
       "    }\n",
       "\n",
       "    .dataframe tbody tr th {\n",
       "        vertical-align: top;\n",
       "    }\n",
       "\n",
       "    .dataframe thead th {\n",
       "        text-align: right;\n",
       "    }\n",
       "</style>\n",
       "<table border=\"1\" class=\"dataframe\">\n",
       "  <thead>\n",
       "    <tr style=\"text-align: right;\">\n",
       "      <th></th>\n",
       "      <th>CustomerID</th>\n",
       "      <th>Recency</th>\n",
       "      <th>Frequency</th>\n",
       "      <th>Monetary</th>\n",
       "      <th>R_Quartile</th>\n",
       "      <th>F_Quartile</th>\n",
       "      <th>M_Quartile</th>\n",
       "      <th>RFMScore</th>\n",
       "      <th>Segment</th>\n",
       "    </tr>\n",
       "  </thead>\n",
       "  <tbody>\n",
       "    <tr>\n",
       "      <th>464</th>\n",
       "      <td>12939</td>\n",
       "      <td>64</td>\n",
       "      <td>8</td>\n",
       "      <td>11581.80</td>\n",
       "      <td>2</td>\n",
       "      <td>4</td>\n",
       "      <td>4</td>\n",
       "      <td>244</td>\n",
       "      <td>Almost Lost</td>\n",
       "    </tr>\n",
       "    <tr>\n",
       "      <th>50</th>\n",
       "      <td>12409</td>\n",
       "      <td>78</td>\n",
       "      <td>7</td>\n",
       "      <td>11056.93</td>\n",
       "      <td>2</td>\n",
       "      <td>4</td>\n",
       "      <td>4</td>\n",
       "      <td>244</td>\n",
       "      <td>Almost Lost</td>\n",
       "    </tr>\n",
       "    <tr>\n",
       "      <th>2836</th>\n",
       "      <td>16180</td>\n",
       "      <td>100</td>\n",
       "      <td>10</td>\n",
       "      <td>10217.48</td>\n",
       "      <td>2</td>\n",
       "      <td>4</td>\n",
       "      <td>4</td>\n",
       "      <td>244</td>\n",
       "      <td>Almost Lost</td>\n",
       "    </tr>\n",
       "    <tr>\n",
       "      <th>328</th>\n",
       "      <td>12744</td>\n",
       "      <td>51</td>\n",
       "      <td>10</td>\n",
       "      <td>9120.39</td>\n",
       "      <td>2</td>\n",
       "      <td>4</td>\n",
       "      <td>4</td>\n",
       "      <td>244</td>\n",
       "      <td>Almost Lost</td>\n",
       "    </tr>\n",
       "    <tr>\n",
       "      <th>3248</th>\n",
       "      <td>16745</td>\n",
       "      <td>86</td>\n",
       "      <td>18</td>\n",
       "      <td>7157.10</td>\n",
       "      <td>2</td>\n",
       "      <td>4</td>\n",
       "      <td>4</td>\n",
       "      <td>244</td>\n",
       "      <td>Almost Lost</td>\n",
       "    </tr>\n",
       "  </tbody>\n",
       "</table>\n",
       "</div>"
      ],
      "text/plain": [
       "      CustomerID  Recency  Frequency  Monetary  R_Quartile  F_Quartile  \\\n",
       "464        12939       64          8  11581.80           2           4   \n",
       "50         12409       78          7  11056.93           2           4   \n",
       "2836       16180      100         10  10217.48           2           4   \n",
       "328        12744       51         10   9120.39           2           4   \n",
       "3248       16745       86         18   7157.10           2           4   \n",
       "\n",
       "      M_Quartile RFMScore      Segment  \n",
       "464            4      244  Almost Lost  \n",
       "50             4      244  Almost Lost  \n",
       "2836           4      244  Almost Lost  \n",
       "328            4      244  Almost Lost  \n",
       "3248           4      244  Almost Lost  "
      ]
     },
     "execution_count": 70,
     "metadata": {},
     "output_type": "execute_result"
    }
   ],
   "source": [
    "# Almost Lost i.e. who's recency value is low\n",
    "rfm_segment[rfm_segment.RFMScore=='244'].sort_values('Monetary', ascending=False).head()"
   ]
  },
  {
   "cell_type": "code",
   "execution_count": 71,
   "id": "f0db713f",
   "metadata": {},
   "outputs": [
    {
     "data": {
      "text/html": [
       "<div>\n",
       "<style scoped>\n",
       "    .dataframe tbody tr th:only-of-type {\n",
       "        vertical-align: middle;\n",
       "    }\n",
       "\n",
       "    .dataframe tbody tr th {\n",
       "        vertical-align: top;\n",
       "    }\n",
       "\n",
       "    .dataframe thead th {\n",
       "        text-align: right;\n",
       "    }\n",
       "</style>\n",
       "<table border=\"1\" class=\"dataframe\">\n",
       "  <thead>\n",
       "    <tr style=\"text-align: right;\">\n",
       "      <th></th>\n",
       "      <th>CustomerID</th>\n",
       "      <th>Recency</th>\n",
       "      <th>Frequency</th>\n",
       "      <th>Monetary</th>\n",
       "      <th>R_Quartile</th>\n",
       "      <th>F_Quartile</th>\n",
       "      <th>M_Quartile</th>\n",
       "      <th>RFMScore</th>\n",
       "      <th>Segment</th>\n",
       "    </tr>\n",
       "  </thead>\n",
       "  <tbody>\n",
       "    <tr>\n",
       "      <th>1578</th>\n",
       "      <td>14481</td>\n",
       "      <td>164</td>\n",
       "      <td>2</td>\n",
       "      <td>636.51</td>\n",
       "      <td>1</td>\n",
       "      <td>2</td>\n",
       "      <td>2</td>\n",
       "      <td>122</td>\n",
       "      <td>Lost Cheap Customers</td>\n",
       "    </tr>\n",
       "    <tr>\n",
       "      <th>2246</th>\n",
       "      <td>15384</td>\n",
       "      <td>169</td>\n",
       "      <td>3</td>\n",
       "      <td>635.76</td>\n",
       "      <td>1</td>\n",
       "      <td>2</td>\n",
       "      <td>2</td>\n",
       "      <td>122</td>\n",
       "      <td>Lost Cheap Customers</td>\n",
       "    </tr>\n",
       "    <tr>\n",
       "      <th>1230</th>\n",
       "      <td>14000</td>\n",
       "      <td>206</td>\n",
       "      <td>2</td>\n",
       "      <td>633.71</td>\n",
       "      <td>1</td>\n",
       "      <td>2</td>\n",
       "      <td>2</td>\n",
       "      <td>122</td>\n",
       "      <td>Lost Cheap Customers</td>\n",
       "    </tr>\n",
       "    <tr>\n",
       "      <th>1985</th>\n",
       "      <td>15045</td>\n",
       "      <td>151</td>\n",
       "      <td>3</td>\n",
       "      <td>633.66</td>\n",
       "      <td>1</td>\n",
       "      <td>2</td>\n",
       "      <td>2</td>\n",
       "      <td>122</td>\n",
       "      <td>Lost Cheap Customers</td>\n",
       "    </tr>\n",
       "    <tr>\n",
       "      <th>1391</th>\n",
       "      <td>14220</td>\n",
       "      <td>247</td>\n",
       "      <td>2</td>\n",
       "      <td>632.40</td>\n",
       "      <td>1</td>\n",
       "      <td>2</td>\n",
       "      <td>2</td>\n",
       "      <td>122</td>\n",
       "      <td>Lost Cheap Customers</td>\n",
       "    </tr>\n",
       "  </tbody>\n",
       "</table>\n",
       "</div>"
      ],
      "text/plain": [
       "      CustomerID  Recency  Frequency  Monetary  R_Quartile  F_Quartile  \\\n",
       "1578       14481      164          2    636.51           1           2   \n",
       "2246       15384      169          3    635.76           1           2   \n",
       "1230       14000      206          2    633.71           1           2   \n",
       "1985       15045      151          3    633.66           1           2   \n",
       "1391       14220      247          2    632.40           1           2   \n",
       "\n",
       "      M_Quartile RFMScore               Segment  \n",
       "1578           2      122  Lost Cheap Customers  \n",
       "2246           2      122  Lost Cheap Customers  \n",
       "1230           2      122  Lost Cheap Customers  \n",
       "1985           2      122  Lost Cheap Customers  \n",
       "1391           2      122  Lost Cheap Customers  "
      ]
     },
     "execution_count": 71,
     "metadata": {},
     "output_type": "execute_result"
    }
   ],
   "source": [
    "# Lost customers that don't needs attention who's recency, frequency as well as monetary values are low\n",
    "rfm_segment[rfm_segment.RFMScore=='122'].sort_values('Monetary', ascending=False).head()"
   ]
  },
  {
   "cell_type": "code",
   "execution_count": 72,
   "id": "714a8d23",
   "metadata": {},
   "outputs": [
    {
     "data": {
      "text/html": [
       "<div>\n",
       "<style scoped>\n",
       "    .dataframe tbody tr th:only-of-type {\n",
       "        vertical-align: middle;\n",
       "    }\n",
       "\n",
       "    .dataframe tbody tr th {\n",
       "        vertical-align: top;\n",
       "    }\n",
       "\n",
       "    .dataframe thead th {\n",
       "        text-align: right;\n",
       "    }\n",
       "</style>\n",
       "<table border=\"1\" class=\"dataframe\">\n",
       "  <thead>\n",
       "    <tr style=\"text-align: right;\">\n",
       "      <th></th>\n",
       "      <th>CustomerID</th>\n",
       "      <th>Recency</th>\n",
       "      <th>Frequency</th>\n",
       "      <th>Monetary</th>\n",
       "      <th>R_Quartile</th>\n",
       "      <th>F_Quartile</th>\n",
       "      <th>M_Quartile</th>\n",
       "      <th>RFMScore</th>\n",
       "      <th>Segment</th>\n",
       "    </tr>\n",
       "  </thead>\n",
       "  <tbody>\n",
       "    <tr>\n",
       "      <th>55</th>\n",
       "      <td>12415</td>\n",
       "      <td>24</td>\n",
       "      <td>26</td>\n",
       "      <td>123725.45</td>\n",
       "      <td>3</td>\n",
       "      <td>4</td>\n",
       "      <td>4</td>\n",
       "      <td>344</td>\n",
       "      <td>Loyal Customers</td>\n",
       "    </tr>\n",
       "    <tr>\n",
       "      <th>2722</th>\n",
       "      <td>16029</td>\n",
       "      <td>38</td>\n",
       "      <td>76</td>\n",
       "      <td>53168.69</td>\n",
       "      <td>3</td>\n",
       "      <td>4</td>\n",
       "      <td>4</td>\n",
       "      <td>344</td>\n",
       "      <td>Loyal Customers</td>\n",
       "    </tr>\n",
       "    <tr>\n",
       "      <th>3014</th>\n",
       "      <td>16422</td>\n",
       "      <td>17</td>\n",
       "      <td>75</td>\n",
       "      <td>33805.69</td>\n",
       "      <td>3</td>\n",
       "      <td>4</td>\n",
       "      <td>4</td>\n",
       "      <td>344</td>\n",
       "      <td>Loyal Customers</td>\n",
       "    </tr>\n",
       "    <tr>\n",
       "      <th>458</th>\n",
       "      <td>12931</td>\n",
       "      <td>21</td>\n",
       "      <td>20</td>\n",
       "      <td>33462.81</td>\n",
       "      <td>3</td>\n",
       "      <td>4</td>\n",
       "      <td>4</td>\n",
       "      <td>344</td>\n",
       "      <td>Loyal Customers</td>\n",
       "    </tr>\n",
       "    <tr>\n",
       "      <th>1728</th>\n",
       "      <td>14680</td>\n",
       "      <td>25</td>\n",
       "      <td>23</td>\n",
       "      <td>26932.34</td>\n",
       "      <td>3</td>\n",
       "      <td>4</td>\n",
       "      <td>4</td>\n",
       "      <td>344</td>\n",
       "      <td>Loyal Customers</td>\n",
       "    </tr>\n",
       "  </tbody>\n",
       "</table>\n",
       "</div>"
      ],
      "text/plain": [
       "      CustomerID  Recency  Frequency  Monetary  R_Quartile  F_Quartile  \\\n",
       "55         12415       24         26 123725.45           3           4   \n",
       "2722       16029       38         76  53168.69           3           4   \n",
       "3014       16422       17         75  33805.69           3           4   \n",
       "458        12931       21         20  33462.81           3           4   \n",
       "1728       14680       25         23  26932.34           3           4   \n",
       "\n",
       "      M_Quartile RFMScore          Segment  \n",
       "55             4      344  Loyal Customers  \n",
       "2722           4      344  Loyal Customers  \n",
       "3014           4      344  Loyal Customers  \n",
       "458            4      344  Loyal Customers  \n",
       "1728           4      344  Loyal Customers  "
      ]
     },
     "execution_count": 72,
     "metadata": {},
     "output_type": "execute_result"
    }
   ],
   "source": [
    "# loyal customers who's purchase frequency is high\n",
    "rfm_segment[rfm_segment.RFMScore=='344'].sort_values('Monetary', ascending=False).head()"
   ]
  },
  {
   "cell_type": "code",
   "execution_count": 73,
   "id": "a82449a3",
   "metadata": {},
   "outputs": [
    {
     "data": {
      "text/html": [
       "<div>\n",
       "<style scoped>\n",
       "    .dataframe tbody tr th:only-of-type {\n",
       "        vertical-align: middle;\n",
       "    }\n",
       "\n",
       "    .dataframe tbody tr th {\n",
       "        vertical-align: top;\n",
       "    }\n",
       "\n",
       "    .dataframe thead th {\n",
       "        text-align: right;\n",
       "    }\n",
       "</style>\n",
       "<table border=\"1\" class=\"dataframe\">\n",
       "  <thead>\n",
       "    <tr style=\"text-align: right;\">\n",
       "      <th></th>\n",
       "      <th>CustomerID</th>\n",
       "      <th>Recency</th>\n",
       "      <th>Frequency</th>\n",
       "      <th>Monetary</th>\n",
       "      <th>R_Quartile</th>\n",
       "      <th>F_Quartile</th>\n",
       "      <th>M_Quartile</th>\n",
       "      <th>RFMScore</th>\n",
       "      <th>Segment</th>\n",
       "    </tr>\n",
       "  </thead>\n",
       "  <tbody>\n",
       "    <tr>\n",
       "      <th>464</th>\n",
       "      <td>12939</td>\n",
       "      <td>64</td>\n",
       "      <td>8</td>\n",
       "      <td>11581.80</td>\n",
       "      <td>2</td>\n",
       "      <td>4</td>\n",
       "      <td>4</td>\n",
       "      <td>244</td>\n",
       "      <td>Almost Lost</td>\n",
       "    </tr>\n",
       "    <tr>\n",
       "      <th>50</th>\n",
       "      <td>12409</td>\n",
       "      <td>78</td>\n",
       "      <td>7</td>\n",
       "      <td>11056.93</td>\n",
       "      <td>2</td>\n",
       "      <td>4</td>\n",
       "      <td>4</td>\n",
       "      <td>244</td>\n",
       "      <td>Almost Lost</td>\n",
       "    </tr>\n",
       "    <tr>\n",
       "      <th>2836</th>\n",
       "      <td>16180</td>\n",
       "      <td>100</td>\n",
       "      <td>10</td>\n",
       "      <td>10217.48</td>\n",
       "      <td>2</td>\n",
       "      <td>4</td>\n",
       "      <td>4</td>\n",
       "      <td>244</td>\n",
       "      <td>Almost Lost</td>\n",
       "    </tr>\n",
       "    <tr>\n",
       "      <th>328</th>\n",
       "      <td>12744</td>\n",
       "      <td>51</td>\n",
       "      <td>10</td>\n",
       "      <td>9120.39</td>\n",
       "      <td>2</td>\n",
       "      <td>4</td>\n",
       "      <td>4</td>\n",
       "      <td>244</td>\n",
       "      <td>Almost Lost</td>\n",
       "    </tr>\n",
       "    <tr>\n",
       "      <th>3248</th>\n",
       "      <td>16745</td>\n",
       "      <td>86</td>\n",
       "      <td>18</td>\n",
       "      <td>7157.10</td>\n",
       "      <td>2</td>\n",
       "      <td>4</td>\n",
       "      <td>4</td>\n",
       "      <td>244</td>\n",
       "      <td>Almost Lost</td>\n",
       "    </tr>\n",
       "  </tbody>\n",
       "</table>\n",
       "</div>"
      ],
      "text/plain": [
       "      CustomerID  Recency  Frequency  Monetary  R_Quartile  F_Quartile  \\\n",
       "464        12939       64          8  11581.80           2           4   \n",
       "50         12409       78          7  11056.93           2           4   \n",
       "2836       16180      100         10  10217.48           2           4   \n",
       "328        12744       51         10   9120.39           2           4   \n",
       "3248       16745       86         18   7157.10           2           4   \n",
       "\n",
       "      M_Quartile RFMScore      Segment  \n",
       "464            4      244  Almost Lost  \n",
       "50             4      244  Almost Lost  \n",
       "2836           4      244  Almost Lost  \n",
       "328            4      244  Almost Lost  \n",
       "3248           4      244  Almost Lost  "
      ]
     },
     "execution_count": 73,
     "metadata": {},
     "output_type": "execute_result"
    }
   ],
   "source": [
    "# customers that you must retain are those whose monetary and frequency was high but recency reduced quite a lot recently\n",
    "rfm_segment[rfm_segment.RFMScore=='244'].sort_values('Monetary', ascending=False).head()"
   ]
  },
  {
   "cell_type": "markdown",
   "id": "a1f600c3",
   "metadata": {},
   "source": [
    "### K-Means Clustering\n",
    "We will now cluster our customers with K-Means! So let's visualize the data distribution in RFM table"
   ]
  },
  {
   "cell_type": "code",
   "execution_count": 74,
   "id": "2272a91a",
   "metadata": {},
   "outputs": [
    {
     "data": {
      "image/png": "[encoded data removed]",
      "text/plain": [
       "<Figure size 1080x1080 with 3 Axes>"
      ]
     },
     "metadata": {
      "needs_background": "light"
     },
     "output_type": "display_data"
    }
   ],
   "source": [
    "# plot\n",
    "fig, axes = plt.subplots(3, 1, figsize=(15, 15))\n",
    "sns.distplot(rfm_table.Recency , color=\"dodgerblue\", ax=axes[0], axlabel='Recency')\n",
    "sns.distplot(rfm_table.Frequency , color=\"deeppink\", ax=axes[1], axlabel='Frequency')\n",
    "sns.distplot(rfm_table.Monetary , color=\"gold\", ax=axes[2], axlabel='Monetary')\n",
    "# plt.xlim(50,75);\n",
    "plt.show();"
   ]
  },
  {
   "cell_type": "markdown",
   "id": "f78d498d",
   "metadata": {},
   "source": [
    "Here we can observe that the data is highly skewed. So we have to transform and scale the data first because K-Means assumes that the variables should have a symmetric distributions(not skewed) and they should have same average values as well as same variance."
   ]
  },
  {
   "cell_type": "code",
   "execution_count": 75,
   "id": "dd362704",
   "metadata": {},
   "outputs": [
    {
     "data": {
      "text/html": [
       "<div>\n",
       "<style scoped>\n",
       "    .dataframe tbody tr th:only-of-type {\n",
       "        vertical-align: middle;\n",
       "    }\n",
       "\n",
       "    .dataframe tbody tr th {\n",
       "        vertical-align: top;\n",
       "    }\n",
       "\n",
       "    .dataframe thead th {\n",
       "        text-align: right;\n",
       "    }\n",
       "</style>\n",
       "<table border=\"1\" class=\"dataframe\">\n",
       "  <thead>\n",
       "    <tr style=\"text-align: right;\">\n",
       "      <th></th>\n",
       "      <th>Recency</th>\n",
       "      <th>Frequency</th>\n",
       "      <th>Monetary</th>\n",
       "    </tr>\n",
       "  </thead>\n",
       "  <tbody>\n",
       "    <tr>\n",
       "      <th>count</th>\n",
       "      <td>4372.00</td>\n",
       "      <td>4372.00</td>\n",
       "      <td>4372.00</td>\n",
       "    </tr>\n",
       "    <tr>\n",
       "      <th>mean</th>\n",
       "      <td>91.58</td>\n",
       "      <td>5.08</td>\n",
       "      <td>1893.53</td>\n",
       "    </tr>\n",
       "    <tr>\n",
       "      <th>std</th>\n",
       "      <td>100.77</td>\n",
       "      <td>9.34</td>\n",
       "      <td>8218.70</td>\n",
       "    </tr>\n",
       "    <tr>\n",
       "      <th>min</th>\n",
       "      <td>0.00</td>\n",
       "      <td>1.00</td>\n",
       "      <td>-4287.63</td>\n",
       "    </tr>\n",
       "    <tr>\n",
       "      <th>25%</th>\n",
       "      <td>16.00</td>\n",
       "      <td>1.00</td>\n",
       "      <td>291.79</td>\n",
       "    </tr>\n",
       "    <tr>\n",
       "      <th>50%</th>\n",
       "      <td>50.00</td>\n",
       "      <td>3.00</td>\n",
       "      <td>644.07</td>\n",
       "    </tr>\n",
       "    <tr>\n",
       "      <th>75%</th>\n",
       "      <td>143.00</td>\n",
       "      <td>5.00</td>\n",
       "      <td>1608.34</td>\n",
       "    </tr>\n",
       "    <tr>\n",
       "      <th>max</th>\n",
       "      <td>373.00</td>\n",
       "      <td>248.00</td>\n",
       "      <td>279489.02</td>\n",
       "    </tr>\n",
       "  </tbody>\n",
       "</table>\n",
       "</div>"
      ],
      "text/plain": [
       "       Recency  Frequency  Monetary\n",
       "count  4372.00    4372.00   4372.00\n",
       "mean     91.58       5.08   1893.53\n",
       "std     100.77       9.34   8218.70\n",
       "min       0.00       1.00  -4287.63\n",
       "25%      16.00       1.00    291.79\n",
       "50%      50.00       3.00    644.07\n",
       "75%     143.00       5.00   1608.34\n",
       "max     373.00     248.00 279489.02"
      ]
     },
     "execution_count": 75,
     "metadata": {},
     "output_type": "execute_result"
    }
   ],
   "source": [
    "# Let's describe the table to see if there are any negative values\n",
    "rfm_table.describe()"
   ]
  },
  {
   "cell_type": "markdown",
   "id": "89e11f74",
   "metadata": {},
   "source": [
    "We can observe that Monetary contains negative values. So first we need to make sure that minimum range of value starts from 1 otherwise log transformation may lead to errors in graph plotting as well as K-Means clustering. After that we will utilize log transformation and scaling to make data available for for K-Means clustering."
   ]
  },
  {
   "cell_type": "code",
   "execution_count": 76,
   "id": "08bab4c2",
   "metadata": {},
   "outputs": [
    {
     "data": {
      "text/html": [
       "<div>\n",
       "<style scoped>\n",
       "    .dataframe tbody tr th:only-of-type {\n",
       "        vertical-align: middle;\n",
       "    }\n",
       "\n",
       "    .dataframe tbody tr th {\n",
       "        vertical-align: top;\n",
       "    }\n",
       "\n",
       "    .dataframe thead th {\n",
       "        text-align: right;\n",
       "    }\n",
       "</style>\n",
       "<table border=\"1\" class=\"dataframe\">\n",
       "  <thead>\n",
       "    <tr style=\"text-align: right;\">\n",
       "      <th></th>\n",
       "      <th>Recency</th>\n",
       "      <th>Frequency</th>\n",
       "      <th>Monetary</th>\n",
       "    </tr>\n",
       "  </thead>\n",
       "  <tbody>\n",
       "    <tr>\n",
       "      <th>count</th>\n",
       "      <td>4372.00</td>\n",
       "      <td>4372.00</td>\n",
       "      <td>4372.00</td>\n",
       "    </tr>\n",
       "    <tr>\n",
       "      <th>mean</th>\n",
       "      <td>92.58</td>\n",
       "      <td>5.08</td>\n",
       "      <td>6182.16</td>\n",
       "    </tr>\n",
       "    <tr>\n",
       "      <th>std</th>\n",
       "      <td>100.77</td>\n",
       "      <td>9.34</td>\n",
       "      <td>8218.70</td>\n",
       "    </tr>\n",
       "    <tr>\n",
       "      <th>min</th>\n",
       "      <td>1.00</td>\n",
       "      <td>1.00</td>\n",
       "      <td>1.00</td>\n",
       "    </tr>\n",
       "    <tr>\n",
       "      <th>25%</th>\n",
       "      <td>17.00</td>\n",
       "      <td>1.00</td>\n",
       "      <td>4580.43</td>\n",
       "    </tr>\n",
       "    <tr>\n",
       "      <th>50%</th>\n",
       "      <td>51.00</td>\n",
       "      <td>3.00</td>\n",
       "      <td>4932.70</td>\n",
       "    </tr>\n",
       "    <tr>\n",
       "      <th>75%</th>\n",
       "      <td>144.00</td>\n",
       "      <td>5.00</td>\n",
       "      <td>5896.97</td>\n",
       "    </tr>\n",
       "    <tr>\n",
       "      <th>max</th>\n",
       "      <td>374.00</td>\n",
       "      <td>248.00</td>\n",
       "      <td>283777.65</td>\n",
       "    </tr>\n",
       "  </tbody>\n",
       "</table>\n",
       "</div>"
      ],
      "text/plain": [
       "       Recency  Frequency  Monetary\n",
       "count  4372.00    4372.00   4372.00\n",
       "mean     92.58       5.08   6182.16\n",
       "std     100.77       9.34   8218.70\n",
       "min       1.00       1.00      1.00\n",
       "25%      17.00       1.00   4580.43\n",
       "50%      51.00       3.00   4932.70\n",
       "75%     144.00       5.00   5896.97\n",
       "max     374.00     248.00 283777.65"
      ]
     },
     "execution_count": 76,
     "metadata": {},
     "output_type": "execute_result"
    }
   ],
   "source": [
    "# Create a copy of rfm table\n",
    "rfm_table_scaled = rfm_table.copy()\n",
    "\n",
    "# Shift all values in the column by adding absolute of minimum value to each value, thereby making each value positive.\n",
    "rfm_table_scaled.Monetary = rfm_table_scaled.Monetary + abs(rfm_table_scaled.Monetary.min()) + 1\n",
    "rfm_table_scaled.Recency = rfm_table_scaled.Recency + abs(rfm_table_scaled.Recency.min()) + 1\n",
    "\n",
    "# Check the summary of new values\n",
    "rfm_table_scaled.describe()"
   ]
  },
  {
   "cell_type": "code",
   "execution_count": 77,
   "id": "f61c8ad0",
   "metadata": {},
   "outputs": [],
   "source": [
    "# Transform the data before K-Means clustering\n",
    "from sklearn.preprocessing import StandardScaler\n",
    "\n",
    "# Taking log first because normalization forces data for negative values\n",
    "log_df = np.log(rfm_table_scaled)\n",
    "\n",
    "# Normalize the data for uniform averages and means in the distribution.\n",
    "scaler = StandardScaler()\n",
    "normal_df = scaler.fit_transform(log_df)\n",
    "normal_df = pd.DataFrame(data=normal_df, index=rfm_table.index, columns=rfm_table.columns)"
   ]
  },
  {
   "cell_type": "code",
   "execution_count": 78,
   "id": "b32fd775",
   "metadata": {},
   "outputs": [
    {
     "data": {
      "image/png": "[encoded data removed]",
      "text/plain": [
       "<Figure size 1080x1080 with 3 Axes>"
      ]
     },
     "metadata": {
      "needs_background": "light"
     },
     "output_type": "display_data"
    }
   ],
   "source": [
    "# plot again on the transformed RFM data\n",
    "fig, axes = plt.subplots(3, 1, figsize=(15, 15))\n",
    "sns.distplot(normal_df.Recency , color=\"dodgerblue\", ax=axes[0], axlabel='Recency')\n",
    "sns.distplot(normal_df.Frequency , color=\"deeppink\", ax=axes[1], axlabel='Frequency')\n",
    "sns.distplot(normal_df.Monetary , color=\"gold\", ax=axes[2], axlabel='Monetary')\n",
    "plt.show();"
   ]
  },
  {
   "cell_type": "markdown",
   "id": "80d9a489",
   "metadata": {},
   "source": [
    "We can observe that the means & averages are approximately uniformed now in each distribution. Now the data is apt for unsupervised algo i.e. K-Means. Lets try to find number of appropriate clusters to divide customers as per there spending pattern with elbow method first"
   ]
  },
  {
   "cell_type": "code",
   "execution_count": 79,
   "id": "f4e02e8f",
   "metadata": {},
   "outputs": [
    {
     "data": {
      "image/png": "[encoded data removed]",
      "text/plain": [
       "<Figure size 432x288 with 1 Axes>"
      ]
     },
     "metadata": {
      "needs_background": "light"
     },
     "output_type": "display_data"
    }
   ],
   "source": [
    "# find WCSS\n",
    "from sklearn.cluster import KMeans\n",
    "import matplotlib.pyplot as plt\n",
    "wcss = []\n",
    "for i in range(1,11):\n",
    "    kmeans = KMeans(n_clusters=i, init='k-means++')\n",
    "    kmeans.fit(normal_df)\n",
    "    wcss.append(kmeans.inertia_)\n",
    "\n",
    "# plot elbow graph\n",
    "plt.plot(range(1,11),wcss,marker='o');"
   ]
  },
  {
   "cell_type": "markdown",
   "id": "ce615453",
   "metadata": {},
   "source": [
    "From the elbow graph, it seems that good number of cluster would be either 2 or 3 as after that, its a smooth curve i.e. no change of orientation. but to overcome that confusion, we will use silhouette score method to find the optimum number of clusters because it is often much better in figuring out the number of valid clusters than the elbow method"
   ]
  },
  {
   "cell_type": "code",
   "execution_count": 80,
   "id": "e5c23535",
   "metadata": {},
   "outputs": [
    {
     "name": "stdout",
     "output_type": "stream",
     "text": [
      "Silhouette score for number of cluster(s) 2: 0.4405297656150766\n",
      "Silhouette score for number of cluster(s) 3: 0.39677649451050456\n",
      "Silhouette score for number of cluster(s) 4: 0.338013340102464\n",
      "Silhouette score for number of cluster(s) 5: 0.3626494830847667\n",
      "Silhouette score for number of cluster(s) 6: 0.3649032445702833\n",
      "Silhouette score for number of cluster(s) 7: 0.354671831939756\n",
      "Silhouette score for number of cluster(s) 8: 0.34664985914118013\n",
      "Silhouette score for number of cluster(s) 9: 0.3439470526219597\n",
      "Silhouette score for number of cluster(s) 10: 0.3526441041738994\n",
      "Silhouette score for number of cluster(s) 11: 0.3618099356284099\n"
     ]
    },
    {
     "data": {
      "image/png": "[encoded data removed]",
      "text/plain": [
       "<Figure size 720x360 with 1 Axes>"
      ]
     },
     "metadata": {
      "needs_background": "light"
     },
     "output_type": "display_data"
    }
   ],
   "source": [
    "from sklearn.metrics import silhouette_score\n",
    "wcss_silhouette = []\n",
    "for i in range(2,12):\n",
    "    km = KMeans(n_clusters=i, random_state=0,init='k-means++').fit(normal_df)\n",
    "    preds = km.predict(normal_df)    \n",
    "    silhouette = silhouette_score(normal_df,preds)\n",
    "    wcss_silhouette.append(silhouette)\n",
    "    print(\"Silhouette score for number of cluster(s) {}: {}\".format(i,silhouette))\n",
    "\n",
    "plt.figure(figsize=(10,5))\n",
    "plt.title(\"The silhouette coefficient method \\nfor determining number of clusters\\n\",fontsize=16)\n",
    "plt.scatter(x=[i for i in range(2,12)],y=wcss_silhouette,s=150,edgecolor='k')\n",
    "plt.grid(True)\n",
    "plt.xlabel(\"Number of clusters\",fontsize=14)\n",
    "plt.ylabel(\"Silhouette score\",fontsize=15)\n",
    "plt.xticks([i for i in range(2,12)],fontsize=14)\n",
    "plt.yticks(fontsize=15)\n",
    "plt.show()"
   ]
  },
  {
   "cell_type": "markdown",
   "id": "75f9f2d5",
   "metadata": {},
   "source": [
    "Here we can clearly see that optimum number of cluster should be 4 not 2 or 3. Because that is the only point after which the mean cluster distance looks to be plateaued after a steep downfall. So we will assume the 4 number of clusters as best for grouping of customer segments.\n",
    "\n",
    "Now let's apply K-Means on 4 clusters to segregate the customer base."
   ]
  },
  {
   "cell_type": "code",
   "execution_count": 81,
   "id": "0377f038",
   "metadata": {},
   "outputs": [],
   "source": [
    "kmeans = KMeans(n_clusters=4, random_state=1, init='k-means++')\n",
    "kmeans.fit(normal_df)\n",
    "cluster_labels = kmeans.labels_"
   ]
  },
  {
   "cell_type": "code",
   "execution_count": 82,
   "id": "85f73203",
   "metadata": {},
   "outputs": [
    {
     "data": {
      "text/plain": [
       "KMeans(n_clusters=4, random_state=1)"
      ]
     },
     "execution_count": 82,
     "metadata": {},
     "output_type": "execute_result"
    }
   ],
   "source": [
    "kmeans"
   ]
  },
  {
   "cell_type": "code",
   "execution_count": 83,
   "id": "c11cda0c",
   "metadata": {},
   "outputs": [
    {
     "name": "stdout",
     "output_type": "stream",
     "text": [
      "Shape of cluster label array is (4372,)\n",
      "Shape of RFM segment dataframe is (4372, 9)\n"
     ]
    }
   ],
   "source": [
    "print(f\"Shape of cluster label array is {cluster_labels.shape}\")\n",
    "print(f\"Shape of RFM segment dataframe is {rfm_segment.shape}\")"
   ]
  },
  {
   "cell_type": "code",
   "execution_count": 84,
   "id": "c9885f4e",
   "metadata": {},
   "outputs": [],
   "source": [
    "# Assign the clusters as column to each customer\n",
    "Cluster_table = rfm_segment.assign(Cluster = cluster_labels)"
   ]
  },
  {
   "cell_type": "code",
   "execution_count": 85,
   "id": "34655ece",
   "metadata": {},
   "outputs": [
    {
     "data": {
      "text/plain": [
       "0    1786\n",
       "3    1499\n",
       "2     963\n",
       "1     124\n",
       "Name: Cluster, dtype: int64"
      ]
     },
     "execution_count": 85,
     "metadata": {},
     "output_type": "execute_result"
    }
   ],
   "source": [
    "# Check counts of records assigned to different clusters\n",
    "Cluster_table.Cluster.value_counts()"
   ]
  },
  {
   "cell_type": "markdown",
   "id": "da00468f",
   "metadata": {},
   "source": [
    "Here we see that most of the customers belong to 0 and 3 cluster, whereas very less number of customers assigned to 1 cluster, may be possible that those are some of the best customers out of the pool or worst customer, lets checkout the pattern"
   ]
  },
  {
   "cell_type": "code",
   "execution_count": 86,
   "id": "16d84856",
   "metadata": {},
   "outputs": [
    {
     "data": {
      "text/html": [
       "<div>\n",
       "<style scoped>\n",
       "    .dataframe tbody tr th:only-of-type {\n",
       "        vertical-align: middle;\n",
       "    }\n",
       "\n",
       "    .dataframe tbody tr th {\n",
       "        vertical-align: top;\n",
       "    }\n",
       "\n",
       "    .dataframe thead th {\n",
       "        text-align: right;\n",
       "    }\n",
       "</style>\n",
       "<table border=\"1\" class=\"dataframe\">\n",
       "  <thead>\n",
       "    <tr style=\"text-align: right;\">\n",
       "      <th></th>\n",
       "      <th>CustomerID</th>\n",
       "      <th>Recency</th>\n",
       "      <th>Frequency</th>\n",
       "      <th>Monetary</th>\n",
       "      <th>R_Quartile</th>\n",
       "      <th>F_Quartile</th>\n",
       "      <th>M_Quartile</th>\n",
       "      <th>RFMScore</th>\n",
       "      <th>Segment</th>\n",
       "      <th>Cluster</th>\n",
       "    </tr>\n",
       "  </thead>\n",
       "  <tbody>\n",
       "    <tr>\n",
       "      <th>1579</th>\n",
       "      <td>14482</td>\n",
       "      <td>18</td>\n",
       "      <td>6</td>\n",
       "      <td>2022.81</td>\n",
       "      <td>3</td>\n",
       "      <td>4</td>\n",
       "      <td>4</td>\n",
       "      <td>344</td>\n",
       "      <td>Loyal Customers</td>\n",
       "      <td>2</td>\n",
       "    </tr>\n",
       "    <tr>\n",
       "      <th>1352</th>\n",
       "      <td>14164</td>\n",
       "      <td>70</td>\n",
       "      <td>2</td>\n",
       "      <td>1631.77</td>\n",
       "      <td>2</td>\n",
       "      <td>2</td>\n",
       "      <td>4</td>\n",
       "      <td>224</td>\n",
       "      <td>others</td>\n",
       "      <td>3</td>\n",
       "    </tr>\n",
       "    <tr>\n",
       "      <th>223</th>\n",
       "      <td>12618</td>\n",
       "      <td>21</td>\n",
       "      <td>1</td>\n",
       "      <td>177.31</td>\n",
       "      <td>3</td>\n",
       "      <td>1</td>\n",
       "      <td>1</td>\n",
       "      <td>311</td>\n",
       "      <td>others</td>\n",
       "      <td>3</td>\n",
       "    </tr>\n",
       "    <tr>\n",
       "      <th>2665</th>\n",
       "      <td>15950</td>\n",
       "      <td>1</td>\n",
       "      <td>5</td>\n",
       "      <td>1684.46</td>\n",
       "      <td>4</td>\n",
       "      <td>3</td>\n",
       "      <td>4</td>\n",
       "      <td>434</td>\n",
       "      <td>others</td>\n",
       "      <td>2</td>\n",
       "    </tr>\n",
       "    <tr>\n",
       "      <th>3638</th>\n",
       "      <td>17289</td>\n",
       "      <td>31</td>\n",
       "      <td>4</td>\n",
       "      <td>922.77</td>\n",
       "      <td>3</td>\n",
       "      <td>3</td>\n",
       "      <td>3</td>\n",
       "      <td>333</td>\n",
       "      <td>others</td>\n",
       "      <td>3</td>\n",
       "    </tr>\n",
       "    <tr>\n",
       "      <th>2934</th>\n",
       "      <td>16319</td>\n",
       "      <td>217</td>\n",
       "      <td>1</td>\n",
       "      <td>404.40</td>\n",
       "      <td>1</td>\n",
       "      <td>1</td>\n",
       "      <td>2</td>\n",
       "      <td>112</td>\n",
       "      <td>others</td>\n",
       "      <td>0</td>\n",
       "    </tr>\n",
       "    <tr>\n",
       "      <th>2031</th>\n",
       "      <td>15103</td>\n",
       "      <td>31</td>\n",
       "      <td>2</td>\n",
       "      <td>703.36</td>\n",
       "      <td>3</td>\n",
       "      <td>2</td>\n",
       "      <td>3</td>\n",
       "      <td>323</td>\n",
       "      <td>others</td>\n",
       "      <td>3</td>\n",
       "    </tr>\n",
       "    <tr>\n",
       "      <th>1568</th>\n",
       "      <td>14467</td>\n",
       "      <td>17</td>\n",
       "      <td>4</td>\n",
       "      <td>596.26</td>\n",
       "      <td>3</td>\n",
       "      <td>3</td>\n",
       "      <td>2</td>\n",
       "      <td>332</td>\n",
       "      <td>others</td>\n",
       "      <td>3</td>\n",
       "    </tr>\n",
       "    <tr>\n",
       "      <th>3345</th>\n",
       "      <td>16872</td>\n",
       "      <td>77</td>\n",
       "      <td>3</td>\n",
       "      <td>680.02</td>\n",
       "      <td>2</td>\n",
       "      <td>2</td>\n",
       "      <td>3</td>\n",
       "      <td>223</td>\n",
       "      <td>others</td>\n",
       "      <td>3</td>\n",
       "    </tr>\n",
       "    <tr>\n",
       "      <th>1002</th>\n",
       "      <td>13690</td>\n",
       "      <td>59</td>\n",
       "      <td>1</td>\n",
       "      <td>172.25</td>\n",
       "      <td>2</td>\n",
       "      <td>1</td>\n",
       "      <td>1</td>\n",
       "      <td>211</td>\n",
       "      <td>others</td>\n",
       "      <td>0</td>\n",
       "    </tr>\n",
       "  </tbody>\n",
       "</table>\n",
       "</div>"
      ],
      "text/plain": [
       "      CustomerID  Recency  Frequency  Monetary  R_Quartile  F_Quartile  \\\n",
       "1579       14482       18          6   2022.81           3           4   \n",
       "1352       14164       70          2   1631.77           2           2   \n",
       "223        12618       21          1    177.31           3           1   \n",
       "2665       15950        1          5   1684.46           4           3   \n",
       "3638       17289       31          4    922.77           3           3   \n",
       "2934       16319      217          1    404.40           1           1   \n",
       "2031       15103       31          2    703.36           3           2   \n",
       "1568       14467       17          4    596.26           3           3   \n",
       "3345       16872       77          3    680.02           2           2   \n",
       "1002       13690       59          1    172.25           2           1   \n",
       "\n",
       "      M_Quartile RFMScore          Segment  Cluster  \n",
       "1579           4      344  Loyal Customers        2  \n",
       "1352           4      224           others        3  \n",
       "223            1      311           others        3  \n",
       "2665           4      434           others        2  \n",
       "3638           3      333           others        3  \n",
       "2934           2      112           others        0  \n",
       "2031           3      323           others        3  \n",
       "1568           2      332           others        3  \n",
       "3345           3      223           others        3  \n",
       "1002           1      211           others        0  "
      ]
     },
     "execution_count": 86,
     "metadata": {},
     "output_type": "execute_result"
    }
   ],
   "source": [
    "Cluster_table.sample(10)"
   ]
  },
  {
   "cell_type": "markdown",
   "id": "8f0b12d6",
   "metadata": {},
   "source": [
    "Here we can observe that RFM score is very low for customers in 0 & 3 cluster. Comparetivey, customers in 1&2 clusters have high RFM scores along with above average Recency and frequency values.\n",
    "\n",
    "Let's checkout customers in each cluster more closely"
   ]
  },
  {
   "cell_type": "code",
   "execution_count": 87,
   "id": "f32c323a",
   "metadata": {},
   "outputs": [
    {
     "data": {
      "text/html": [
       "<div>\n",
       "<style scoped>\n",
       "    .dataframe tbody tr th:only-of-type {\n",
       "        vertical-align: middle;\n",
       "    }\n",
       "\n",
       "    .dataframe tbody tr th {\n",
       "        vertical-align: top;\n",
       "    }\n",
       "\n",
       "    .dataframe thead th {\n",
       "        text-align: right;\n",
       "    }\n",
       "</style>\n",
       "<table border=\"1\" class=\"dataframe\">\n",
       "  <thead>\n",
       "    <tr style=\"text-align: right;\">\n",
       "      <th></th>\n",
       "      <th>CustomerID</th>\n",
       "      <th>Recency</th>\n",
       "      <th>Frequency</th>\n",
       "      <th>Monetary</th>\n",
       "      <th>R_Quartile</th>\n",
       "      <th>F_Quartile</th>\n",
       "      <th>M_Quartile</th>\n",
       "      <th>RFMScore</th>\n",
       "      <th>Segment</th>\n",
       "      <th>Cluster</th>\n",
       "    </tr>\n",
       "  </thead>\n",
       "  <tbody>\n",
       "    <tr>\n",
       "      <th>3497</th>\n",
       "      <td>17080</td>\n",
       "      <td>22</td>\n",
       "      <td>3</td>\n",
       "      <td>285.50</td>\n",
       "      <td>3</td>\n",
       "      <td>2</td>\n",
       "      <td>1</td>\n",
       "      <td>321</td>\n",
       "      <td>others</td>\n",
       "      <td>3</td>\n",
       "    </tr>\n",
       "    <tr>\n",
       "      <th>2702</th>\n",
       "      <td>16007</td>\n",
       "      <td>47</td>\n",
       "      <td>4</td>\n",
       "      <td>1693.81</td>\n",
       "      <td>3</td>\n",
       "      <td>3</td>\n",
       "      <td>4</td>\n",
       "      <td>334</td>\n",
       "      <td>Big Spenders</td>\n",
       "      <td>3</td>\n",
       "    </tr>\n",
       "    <tr>\n",
       "      <th>1855</th>\n",
       "      <td>14859</td>\n",
       "      <td>12</td>\n",
       "      <td>5</td>\n",
       "      <td>1352.04</td>\n",
       "      <td>4</td>\n",
       "      <td>3</td>\n",
       "      <td>3</td>\n",
       "      <td>433</td>\n",
       "      <td>others</td>\n",
       "      <td>3</td>\n",
       "    </tr>\n",
       "    <tr>\n",
       "      <th>3805</th>\n",
       "      <td>17515</td>\n",
       "      <td>31</td>\n",
       "      <td>4</td>\n",
       "      <td>639.02</td>\n",
       "      <td>3</td>\n",
       "      <td>3</td>\n",
       "      <td>2</td>\n",
       "      <td>332</td>\n",
       "      <td>others</td>\n",
       "      <td>3</td>\n",
       "    </tr>\n",
       "    <tr>\n",
       "      <th>992</th>\n",
       "      <td>13673</td>\n",
       "      <td>18</td>\n",
       "      <td>2</td>\n",
       "      <td>387.44</td>\n",
       "      <td>3</td>\n",
       "      <td>2</td>\n",
       "      <td>2</td>\n",
       "      <td>322</td>\n",
       "      <td>others</td>\n",
       "      <td>3</td>\n",
       "    </tr>\n",
       "  </tbody>\n",
       "</table>\n",
       "</div>"
      ],
      "text/plain": [
       "      CustomerID  Recency  Frequency  Monetary  R_Quartile  F_Quartile  \\\n",
       "3497       17080       22          3    285.50           3           2   \n",
       "2702       16007       47          4   1693.81           3           3   \n",
       "1855       14859       12          5   1352.04           4           3   \n",
       "3805       17515       31          4    639.02           3           3   \n",
       "992        13673       18          2    387.44           3           2   \n",
       "\n",
       "      M_Quartile RFMScore       Segment  Cluster  \n",
       "3497           1      321        others        3  \n",
       "2702           4      334  Big Spenders        3  \n",
       "1855           3      433        others        3  \n",
       "3805           2      332        others        3  \n",
       "992            2      322        others        3  "
      ]
     },
     "execution_count": 87,
     "metadata": {},
     "output_type": "execute_result"
    }
   ],
   "source": [
    "Cluster_table[Cluster_table.Cluster == 3].sample(5)"
   ]
  },
  {
   "cell_type": "markdown",
   "id": "3df2adbe",
   "metadata": {},
   "source": [
    "Here it can be seen that the RFM score for Cluster 3 customers is somwhat average collectively. So these are more or less those customers which shops occasionally and can respond to the targeted campaigns"
   ]
  },
  {
   "cell_type": "code",
   "execution_count": 88,
   "id": "85be5964",
   "metadata": {},
   "outputs": [
    {
     "data": {
      "text/html": [
       "<div>\n",
       "<style scoped>\n",
       "    .dataframe tbody tr th:only-of-type {\n",
       "        vertical-align: middle;\n",
       "    }\n",
       "\n",
       "    .dataframe tbody tr th {\n",
       "        vertical-align: top;\n",
       "    }\n",
       "\n",
       "    .dataframe thead th {\n",
       "        text-align: right;\n",
       "    }\n",
       "</style>\n",
       "<table border=\"1\" class=\"dataframe\">\n",
       "  <thead>\n",
       "    <tr style=\"text-align: right;\">\n",
       "      <th></th>\n",
       "      <th>CustomerID</th>\n",
       "      <th>Recency</th>\n",
       "      <th>Frequency</th>\n",
       "      <th>Monetary</th>\n",
       "      <th>R_Quartile</th>\n",
       "      <th>F_Quartile</th>\n",
       "      <th>M_Quartile</th>\n",
       "      <th>RFMScore</th>\n",
       "      <th>Segment</th>\n",
       "      <th>Cluster</th>\n",
       "    </tr>\n",
       "  </thead>\n",
       "  <tbody>\n",
       "    <tr>\n",
       "      <th>843</th>\n",
       "      <td>13468</td>\n",
       "      <td>1</td>\n",
       "      <td>41</td>\n",
       "      <td>5656.75</td>\n",
       "      <td>4</td>\n",
       "      <td>4</td>\n",
       "      <td>4</td>\n",
       "      <td>444</td>\n",
       "      <td>Best Customers</td>\n",
       "      <td>2</td>\n",
       "    </tr>\n",
       "    <tr>\n",
       "      <th>702</th>\n",
       "      <td>13268</td>\n",
       "      <td>17</td>\n",
       "      <td>15</td>\n",
       "      <td>3127.70</td>\n",
       "      <td>3</td>\n",
       "      <td>4</td>\n",
       "      <td>4</td>\n",
       "      <td>344</td>\n",
       "      <td>Loyal Customers</td>\n",
       "      <td>2</td>\n",
       "    </tr>\n",
       "    <tr>\n",
       "      <th>1278</th>\n",
       "      <td>14064</td>\n",
       "      <td>29</td>\n",
       "      <td>7</td>\n",
       "      <td>1168.92</td>\n",
       "      <td>3</td>\n",
       "      <td>4</td>\n",
       "      <td>3</td>\n",
       "      <td>343</td>\n",
       "      <td>others</td>\n",
       "      <td>2</td>\n",
       "    </tr>\n",
       "    <tr>\n",
       "      <th>4117</th>\n",
       "      <td>17937</td>\n",
       "      <td>8</td>\n",
       "      <td>7</td>\n",
       "      <td>4301.22</td>\n",
       "      <td>4</td>\n",
       "      <td>4</td>\n",
       "      <td>4</td>\n",
       "      <td>444</td>\n",
       "      <td>Best Customers</td>\n",
       "      <td>2</td>\n",
       "    </tr>\n",
       "    <tr>\n",
       "      <th>350</th>\n",
       "      <td>12779</td>\n",
       "      <td>21</td>\n",
       "      <td>12</td>\n",
       "      <td>3868.70</td>\n",
       "      <td>3</td>\n",
       "      <td>4</td>\n",
       "      <td>4</td>\n",
       "      <td>344</td>\n",
       "      <td>Loyal Customers</td>\n",
       "      <td>2</td>\n",
       "    </tr>\n",
       "  </tbody>\n",
       "</table>\n",
       "</div>"
      ],
      "text/plain": [
       "      CustomerID  Recency  Frequency  Monetary  R_Quartile  F_Quartile  \\\n",
       "843        13468        1         41   5656.75           4           4   \n",
       "702        13268       17         15   3127.70           3           4   \n",
       "1278       14064       29          7   1168.92           3           4   \n",
       "4117       17937        8          7   4301.22           4           4   \n",
       "350        12779       21         12   3868.70           3           4   \n",
       "\n",
       "      M_Quartile RFMScore          Segment  Cluster  \n",
       "843            4      444   Best Customers        2  \n",
       "702            4      344  Loyal Customers        2  \n",
       "1278           3      343           others        2  \n",
       "4117           4      444   Best Customers        2  \n",
       "350            4      344  Loyal Customers        2  "
      ]
     },
     "execution_count": 88,
     "metadata": {},
     "output_type": "execute_result"
    }
   ],
   "source": [
    "Cluster_table[Cluster_table.Cluster == 2].sample(5)"
   ]
  },
  {
   "cell_type": "markdown",
   "id": "2e6b3086",
   "metadata": {},
   "source": [
    "Cluster 2 contains customers with low recency, good frequency and high monetary value, These are the loyal customers to the firm"
   ]
  },
  {
   "cell_type": "code",
   "execution_count": 89,
   "id": "fad38acc",
   "metadata": {},
   "outputs": [
    {
     "data": {
      "text/html": [
       "<div>\n",
       "<style scoped>\n",
       "    .dataframe tbody tr th:only-of-type {\n",
       "        vertical-align: middle;\n",
       "    }\n",
       "\n",
       "    .dataframe tbody tr th {\n",
       "        vertical-align: top;\n",
       "    }\n",
       "\n",
       "    .dataframe thead th {\n",
       "        text-align: right;\n",
       "    }\n",
       "</style>\n",
       "<table border=\"1\" class=\"dataframe\">\n",
       "  <thead>\n",
       "    <tr style=\"text-align: right;\">\n",
       "      <th></th>\n",
       "      <th>CustomerID</th>\n",
       "      <th>Recency</th>\n",
       "      <th>Frequency</th>\n",
       "      <th>Monetary</th>\n",
       "      <th>R_Quartile</th>\n",
       "      <th>F_Quartile</th>\n",
       "      <th>M_Quartile</th>\n",
       "      <th>RFMScore</th>\n",
       "      <th>Segment</th>\n",
       "      <th>Cluster</th>\n",
       "    </tr>\n",
       "  </thead>\n",
       "  <tbody>\n",
       "    <tr>\n",
       "      <th>450</th>\n",
       "      <td>12921</td>\n",
       "      <td>3</td>\n",
       "      <td>50</td>\n",
       "      <td>16389.74</td>\n",
       "      <td>4</td>\n",
       "      <td>4</td>\n",
       "      <td>4</td>\n",
       "      <td>444</td>\n",
       "      <td>Best Customers</td>\n",
       "      <td>1</td>\n",
       "    </tr>\n",
       "    <tr>\n",
       "      <th>3927</th>\n",
       "      <td>17677</td>\n",
       "      <td>1</td>\n",
       "      <td>43</td>\n",
       "      <td>16201.37</td>\n",
       "      <td>4</td>\n",
       "      <td>4</td>\n",
       "      <td>4</td>\n",
       "      <td>444</td>\n",
       "      <td>Best Customers</td>\n",
       "      <td>1</td>\n",
       "    </tr>\n",
       "    <tr>\n",
       "      <th>100</th>\n",
       "      <td>12471</td>\n",
       "      <td>2</td>\n",
       "      <td>49</td>\n",
       "      <td>18705.52</td>\n",
       "      <td>4</td>\n",
       "      <td>4</td>\n",
       "      <td>4</td>\n",
       "      <td>444</td>\n",
       "      <td>Best Customers</td>\n",
       "      <td>1</td>\n",
       "    </tr>\n",
       "    <tr>\n",
       "      <th>1703</th>\n",
       "      <td>14646</td>\n",
       "      <td>1</td>\n",
       "      <td>77</td>\n",
       "      <td>279489.02</td>\n",
       "      <td>4</td>\n",
       "      <td>4</td>\n",
       "      <td>4</td>\n",
       "      <td>444</td>\n",
       "      <td>Best Customers</td>\n",
       "      <td>1</td>\n",
       "    </tr>\n",
       "    <tr>\n",
       "      <th>1078</th>\n",
       "      <td>13798</td>\n",
       "      <td>1</td>\n",
       "      <td>63</td>\n",
       "      <td>36352.87</td>\n",
       "      <td>4</td>\n",
       "      <td>4</td>\n",
       "      <td>4</td>\n",
       "      <td>444</td>\n",
       "      <td>Best Customers</td>\n",
       "      <td>1</td>\n",
       "    </tr>\n",
       "  </tbody>\n",
       "</table>\n",
       "</div>"
      ],
      "text/plain": [
       "      CustomerID  Recency  Frequency  Monetary  R_Quartile  F_Quartile  \\\n",
       "450        12921        3         50  16389.74           4           4   \n",
       "3927       17677        1         43  16201.37           4           4   \n",
       "100        12471        2         49  18705.52           4           4   \n",
       "1703       14646        1         77 279489.02           4           4   \n",
       "1078       13798        1         63  36352.87           4           4   \n",
       "\n",
       "      M_Quartile RFMScore         Segment  Cluster  \n",
       "450            4      444  Best Customers        1  \n",
       "3927           4      444  Best Customers        1  \n",
       "100            4      444  Best Customers        1  \n",
       "1703           4      444  Best Customers        1  \n",
       "1078           4      444  Best Customers        1  "
      ]
     },
     "execution_count": 89,
     "metadata": {},
     "output_type": "execute_result"
    }
   ],
   "source": [
    "Cluster_table[Cluster_table.Cluster == 1].sample(5)"
   ]
  },
  {
   "cell_type": "markdown",
   "id": "ced8a641",
   "metadata": {},
   "source": [
    "Cluster 1 has the customer segment with very high monetary value along with good frequency and recency values. These are the most valuable customers to the firm. They should be looked after periodically to access there concerns."
   ]
  },
  {
   "cell_type": "code",
   "execution_count": 90,
   "id": "824b91df",
   "metadata": {},
   "outputs": [
    {
     "data": {
      "text/html": [
       "<div>\n",
       "<style scoped>\n",
       "    .dataframe tbody tr th:only-of-type {\n",
       "        vertical-align: middle;\n",
       "    }\n",
       "\n",
       "    .dataframe tbody tr th {\n",
       "        vertical-align: top;\n",
       "    }\n",
       "\n",
       "    .dataframe thead th {\n",
       "        text-align: right;\n",
       "    }\n",
       "</style>\n",
       "<table border=\"1\" class=\"dataframe\">\n",
       "  <thead>\n",
       "    <tr style=\"text-align: right;\">\n",
       "      <th></th>\n",
       "      <th>CustomerID</th>\n",
       "      <th>Recency</th>\n",
       "      <th>Frequency</th>\n",
       "      <th>Monetary</th>\n",
       "      <th>R_Quartile</th>\n",
       "      <th>F_Quartile</th>\n",
       "      <th>M_Quartile</th>\n",
       "      <th>RFMScore</th>\n",
       "      <th>Segment</th>\n",
       "      <th>Cluster</th>\n",
       "    </tr>\n",
       "  </thead>\n",
       "  <tbody>\n",
       "    <tr>\n",
       "      <th>3288</th>\n",
       "      <td>16792</td>\n",
       "      <td>282</td>\n",
       "      <td>2</td>\n",
       "      <td>110.38</td>\n",
       "      <td>1</td>\n",
       "      <td>2</td>\n",
       "      <td>1</td>\n",
       "      <td>121</td>\n",
       "      <td>others</td>\n",
       "      <td>0</td>\n",
       "    </tr>\n",
       "    <tr>\n",
       "      <th>2737</th>\n",
       "      <td>16050</td>\n",
       "      <td>173</td>\n",
       "      <td>1</td>\n",
       "      <td>137.90</td>\n",
       "      <td>1</td>\n",
       "      <td>1</td>\n",
       "      <td>1</td>\n",
       "      <td>111</td>\n",
       "      <td>others</td>\n",
       "      <td>0</td>\n",
       "    </tr>\n",
       "    <tr>\n",
       "      <th>4288</th>\n",
       "      <td>18176</td>\n",
       "      <td>353</td>\n",
       "      <td>2</td>\n",
       "      <td>448.65</td>\n",
       "      <td>1</td>\n",
       "      <td>2</td>\n",
       "      <td>2</td>\n",
       "      <td>122</td>\n",
       "      <td>Lost Cheap Customers</td>\n",
       "      <td>0</td>\n",
       "    </tr>\n",
       "    <tr>\n",
       "      <th>1526</th>\n",
       "      <td>14413</td>\n",
       "      <td>362</td>\n",
       "      <td>1</td>\n",
       "      <td>121.05</td>\n",
       "      <td>1</td>\n",
       "      <td>1</td>\n",
       "      <td>1</td>\n",
       "      <td>111</td>\n",
       "      <td>others</td>\n",
       "      <td>0</td>\n",
       "    </tr>\n",
       "    <tr>\n",
       "      <th>3372</th>\n",
       "      <td>16909</td>\n",
       "      <td>64</td>\n",
       "      <td>2</td>\n",
       "      <td>364.14</td>\n",
       "      <td>2</td>\n",
       "      <td>2</td>\n",
       "      <td>2</td>\n",
       "      <td>222</td>\n",
       "      <td>others</td>\n",
       "      <td>0</td>\n",
       "    </tr>\n",
       "  </tbody>\n",
       "</table>\n",
       "</div>"
      ],
      "text/plain": [
       "      CustomerID  Recency  Frequency  Monetary  R_Quartile  F_Quartile  \\\n",
       "3288       16792      282          2    110.38           1           2   \n",
       "2737       16050      173          1    137.90           1           1   \n",
       "4288       18176      353          2    448.65           1           2   \n",
       "1526       14413      362          1    121.05           1           1   \n",
       "3372       16909       64          2    364.14           2           2   \n",
       "\n",
       "      M_Quartile RFMScore               Segment  Cluster  \n",
       "3288           1      121                others        0  \n",
       "2737           1      111                others        0  \n",
       "4288           2      122  Lost Cheap Customers        0  \n",
       "1526           1      111                others        0  \n",
       "3372           2      222                others        0  "
      ]
     },
     "execution_count": 90,
     "metadata": {},
     "output_type": "execute_result"
    }
   ],
   "source": [
    "Cluster_table[Cluster_table.Cluster == 0].sample(5)"
   ]
  },
  {
   "cell_type": "markdown",
   "id": "8f8b6e05",
   "metadata": {},
   "source": [
    "As expected, the last 0 cluster contains the highest number of customers who accounts for lowest value to the firm because there RFM values are lowest. Most of them are in the lost segment or on the verge of churning out.\n",
    "\n",
    "Let's try to visualize this pattern through the help Clusters"
   ]
  },
  {
   "cell_type": "markdown",
   "id": "7a42da7f",
   "metadata": {},
   "source": [
    "Scatter plots\n",
    "These will help us visualize the division of customers into different segments based on the RFM atributes."
   ]
  },
  {
   "cell_type": "code",
   "execution_count": 91,
   "id": "44a13f5a",
   "metadata": {},
   "outputs": [
    {
     "data": {
      "image/png": "[encoded data removed]",
      "text/plain": [
       "<Figure size 1080x432 with 1 Axes>"
      ]
     },
     "metadata": {
      "needs_background": "light"
     },
     "output_type": "display_data"
    },
    {
     "data": {
      "image/png": "[encoded data removed]",
      "text/plain": [
       "<Figure size 1080x432 with 1 Axes>"
      ]
     },
     "metadata": {
      "needs_background": "light"
     },
     "output_type": "display_data"
    },
    {
     "data": {
      "image/png": "[encoded data removed]",
      "text/plain": [
       "<Figure size 1080x432 with 1 Axes>"
      ]
     },
     "metadata": {
      "needs_background": "light"
     },
     "output_type": "display_data"
    }
   ],
   "source": [
    "# Plotting two dimesional plots of each attributes respectively.\n",
    "X = normal_df.iloc[:,0:3].values\n",
    "count=X.shape[1]\n",
    "for i in range(0,count):\n",
    "    for j in range(i+1,count):\n",
    "        plt.figure(figsize=(15,6));\n",
    "        plt.scatter(X[cluster_labels == 0, i], X[cluster_labels == 0, j], s = 10, c = 'red', label = 'Cluster0')\n",
    "        plt.scatter(X[cluster_labels == 1, i], X[cluster_labels == 1, j], s = 10, c = 'blue', label = 'Cluster1')\n",
    "        plt.scatter(X[cluster_labels == 2, i], X[cluster_labels == 2, j], s = 10, c = 'green', label = 'Cluster2')\n",
    "        plt.scatter(X[cluster_labels == 3, i], X[cluster_labels == 3, j], s = 10, c = 'cyan', label = 'Cluster3')\n",
    "        plt.scatter(kmeans.cluster_centers_[:,i], kmeans.cluster_centers_[:,j], s = 50, c = 'black', label = 'Centroids')\n",
    "        plt.xlabel(normal_df.columns[i])\n",
    "        plt.ylabel(normal_df.columns[j])\n",
    "        plt.legend()        \n",
    "        plt.show();"
   ]
  },
  {
   "cell_type": "markdown",
   "id": "9ba9f3cc",
   "metadata": {},
   "source": [
    "We can clearly see the different customers segments with the help of scatter plots. Most evidently from the plot of Recency v/s frequency almost each segment is seprate without much overlap.\n",
    "\n",
    "Now let's check the behaviour of these segments with the help of snake plots."
   ]
  },
  {
   "cell_type": "markdown",
   "id": "06b01b84",
   "metadata": {},
   "source": [
    "### Snake plots\n",
    "- Market research technique to compare different segments\n",
    "- Visual representation of each segment's attributes\n",
    "- Plot each cluster's average normalized values of each attribute\n",
    "\n",
    "To plot this we should have normalized data distribution and all the attributes in a single column. We will use pandas melt facility on normal_df to achieve that"
   ]
  },
  {
   "cell_type": "code",
   "execution_count": 92,
   "id": "a2872d0b",
   "metadata": {},
   "outputs": [
    {
     "data": {
      "text/html": [
       "<div>\n",
       "<style scoped>\n",
       "    .dataframe tbody tr th:only-of-type {\n",
       "        vertical-align: middle;\n",
       "    }\n",
       "\n",
       "    .dataframe tbody tr th {\n",
       "        vertical-align: top;\n",
       "    }\n",
       "\n",
       "    .dataframe thead th {\n",
       "        text-align: right;\n",
       "    }\n",
       "</style>\n",
       "<table border=\"1\" class=\"dataframe\">\n",
       "  <thead>\n",
       "    <tr style=\"text-align: right;\">\n",
       "      <th></th>\n",
       "      <th>CustomerID</th>\n",
       "      <th>Cluster</th>\n",
       "      <th>Metric</th>\n",
       "      <th>Value</th>\n",
       "    </tr>\n",
       "  </thead>\n",
       "  <tbody>\n",
       "    <tr>\n",
       "      <th>0</th>\n",
       "      <td>12346</td>\n",
       "      <td>0</td>\n",
       "      <td>Recency</td>\n",
       "      <td>1.43</td>\n",
       "    </tr>\n",
       "    <tr>\n",
       "      <th>1</th>\n",
       "      <td>12347</td>\n",
       "      <td>2</td>\n",
       "      <td>Recency</td>\n",
       "      <td>-1.89</td>\n",
       "    </tr>\n",
       "    <tr>\n",
       "      <th>2</th>\n",
       "      <td>12348</td>\n",
       "      <td>3</td>\n",
       "      <td>Recency</td>\n",
       "      <td>0.40</td>\n",
       "    </tr>\n",
       "    <tr>\n",
       "      <th>3</th>\n",
       "      <td>12349</td>\n",
       "      <td>3</td>\n",
       "      <td>Recency</td>\n",
       "      <td>-0.58</td>\n",
       "    </tr>\n",
       "    <tr>\n",
       "      <th>4</th>\n",
       "      <td>12350</td>\n",
       "      <td>0</td>\n",
       "      <td>Recency</td>\n",
       "      <td>1.40</td>\n",
       "    </tr>\n",
       "  </tbody>\n",
       "</table>\n",
       "</div>"
      ],
      "text/plain": [
       "   CustomerID  Cluster   Metric  Value\n",
       "0       12346        0  Recency   1.43\n",
       "1       12347        2  Recency  -1.89\n",
       "2       12348        3  Recency   0.40\n",
       "3       12349        3  Recency  -0.58\n",
       "4       12350        0  Recency   1.40"
      ]
     },
     "execution_count": 92,
     "metadata": {},
     "output_type": "execute_result"
    }
   ],
   "source": [
    "# Assign Cluster values to each customer in normalized dataframe\n",
    "normal_df = normal_df.assign(Cluster = cluster_labels)\n",
    "\n",
    "# Melt normalized dataframe into long form to have all metric in same column\n",
    "normal_melt = pd.melt(normal_df.reset_index(),\n",
    "                      id_vars=['CustomerID','Cluster'],\n",
    "                      value_vars=['Recency', 'Frequency', 'Monetary'],\n",
    "                      var_name='Metric',\n",
    "                      value_name='Value')\n",
    "normal_melt.head()"
   ]
  },
  {
   "cell_type": "code",
   "execution_count": 93,
   "id": "65718c38",
   "metadata": {},
   "outputs": [
    {
     "data": {
      "image/png": "[encoded data removed]",
      "text/plain": [
       "<Figure size 1080x360 with 1 Axes>"
      ]
     },
     "metadata": {
      "needs_background": "light"
     },
     "output_type": "display_data"
    }
   ],
   "source": [
    "# a snake plot with K-Means\n",
    "plt.figure(figsize=(15,5))\n",
    "palette = sns.color_palette(\"mako_r\", 4)\n",
    "sns.lineplot(x = 'Metric',\n",
    "             y = 'Value',\n",
    "             hue = 'Cluster',\n",
    "             data = normal_melt,\n",
    "             palette = \"ch:4.4,.44\")\n",
    "\n",
    "plt.suptitle(\"Snake Plot of RFM\",fontsize=20)\n",
    "plt.show();"
   ]
  },
  {
   "cell_type": "markdown",
   "id": "58db17f6",
   "metadata": {},
   "source": [
    "So the behaviour of customers in different clusters is evident from the above graph:\n",
    "\n",
    "- Customer in cluster 1 has highest frequency & monetary along with lowest recency value. These are the most valuable customers to the firm\n",
    "- Customers in cluster 2 also shows similar shopping pattern like cluster 1 but on an average less value for each attributes. These are the loyal customers.\n",
    "- Customers in cluster 3 shows lower frequency, monetary as well as high recency rates as compared to cluster 2. Some of them are occasional customers who shops during shopping festival. These are more likely to respond to a campaign and has the potential to turn profitable.\n",
    "- And the customers in cluster 0 shows a totally opposite behaviour as compared to cluster 2 i.e. the highly unprofitable or the lost customers whom we don't need to pay much attention, May be some targeted offers can bring them back to shopping.\n",
    "### Heat Map\n",
    "We will utilize heat map to visualize the relative importance of each attributes in all four customer segments i.e. clusters. It calculates importance score by dividing them and subtracting 1 (ensures 0 is returned when cluster average equals population average).\n",
    "\n",
    "The farther a ratio is from 0, the more important that attribute is for a segment relative to the total population."
   ]
  },
  {
   "cell_type": "code",
   "execution_count": 94,
   "id": "38a9a0f8",
   "metadata": {},
   "outputs": [],
   "source": [
    "# Assign Cluster labels to RFM table\n",
    "rfm_table_cluster = rfm_table.assign(Cluster = cluster_labels)\n",
    "\n",
    "# Average attributes for each cluster\n",
    "cluster_avg = rfm_table_cluster.groupby(['Cluster']).mean() \n",
    "\n",
    "# Calculate the population average\n",
    "population_avg = rfm_table.mean()\n",
    "\n",
    "# Calculate relative importance of attributes by \n",
    "relative_imp = cluster_avg / population_avg - 1"
   ]
  },
  {
   "cell_type": "code",
   "execution_count": 95,
   "id": "31241705",
   "metadata": {},
   "outputs": [
    {
     "data": {
      "image/png": "[encoded data removed]",
      "text/plain": [
       "<Figure size 720x360 with 2 Axes>"
      ]
     },
     "metadata": {
      "needs_background": "light"
     },
     "output_type": "display_data"
    }
   ],
   "source": [
    "plt.figure(figsize=(10, 5))\n",
    "plt.title('Relative importance of attributes')\n",
    "sns.heatmap(data=relative_imp, annot=True, fmt='.2f', cmap='RdYlGn')\n",
    "plt.show();"
   ]
  },
  {
   "cell_type": "markdown",
   "id": "fc518507",
   "metadata": {},
   "source": [
    "We can observe below things through above graph:\n",
    "\n",
    "- Though the Cluster 1 and 2 shows similar pattern of attributes, but all three attributes in Cluster 1 are given more importance relative to Cluster 2.\n",
    "- Again evident that the cluster 3 which is a segment of potential customers shows an average similar importance to all three attributes as shown in the snake plot.\n",
    "- In Cluster 0 the all attributes are relatively oppsoite in valuation as compared to cluster 2."
   ]
  },
  {
   "cell_type": "code",
   "execution_count": null,
   "id": "13764153",
   "metadata": {},
   "outputs": [],
   "source": []
  }
 ],
 "metadata": {
  "kernelspec": {
   "display_name": "Python 3",
   "language": "python",
   "name": "python3"
  },
  "language_info": {
   "codemirror_mode": {
    "name": "ipython",
    "version": 3
   },
   "file_extension": ".py",
   "mimetype": "text/x-python",
   "name": "python",
   "nbconvert_exporter": "python",
   "pygments_lexer": "ipython3",
   "version": "3.8.8"
  }
 },
 "nbformat": 4,
 "nbformat_minor": 5
}
